{
 "cells": [
  {
   "cell_type": "markdown",
   "metadata": {},
   "source": [
    "![logo 2.png](data:image/png;base64,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)\n",
    "# ***LiDar Assignment 02: PointCloud Un-supervised classification (clustering)***\n",
    "\n",
    "**KNTU G.E engineering faculty _ 2023 November**\n",
    "\n",
    "*Hasti Rafiei Nia* \n",
    "\n",
    "*Student Number : 9926683*\n"
   ]
  },
  {
   "cell_type": "markdown",
   "metadata": {},
   "source": [
    "Importing Libraries."
   ]
  },
  {
   "cell_type": "code",
   "execution_count": 32,
   "metadata": {},
   "outputs": [],
   "source": [
    "import os\n",
    "import laspy\n",
    "import numpy as np\n",
    "import open3d as o3d\n",
    "import matplotlib as mpl\n",
    "from collections import Counter\n",
    "from sklearn.cluster import KMeans\n",
    "mpl.rc('font', family ='Times New Roman')\n",
    "from sklearn.preprocessing import MinMaxScaler\n",
    "from sklearn.mixture import GaussianMixture"
   ]
  },
  {
   "cell_type": "markdown",
   "metadata": {},
   "source": [
    "Change directory & read point cloud(pc) data"
   ]
  },
  {
   "cell_type": "code",
   "execution_count": 20,
   "metadata": {},
   "outputs": [],
   "source": [
    "os.chdir('D:/')\n",
    "las = laspy.read('nonground_training.Las')"
   ]
  },
  {
   "cell_type": "markdown",
   "metadata": {},
   "source": [
    "Convert las to numpy array format."
   ]
  },
  {
   "cell_type": "code",
   "execution_count": 21,
   "metadata": {},
   "outputs": [
    {
     "name": "stdout",
     "output_type": "stream",
     "text": [
      "(511627, 3)\n"
     ]
    }
   ],
   "source": [
    "pc = np.vstack([las.X, las.Y, las.Z]).transpose()\n",
    "print(pc.shape)"
   ]
  },
  {
   "cell_type": "markdown",
   "metadata": {},
   "source": [
    "3D Point cloud visualization."
   ]
  },
  {
   "cell_type": "code",
   "execution_count": 22,
   "metadata": {},
   "outputs": [],
   "source": [
    "pcd = o3d.geometry.PointCloud()\n",
    "pcd.points = o3d.utility.Vector3dVector(pc)\n",
    "o3d.visualization.draw_geometries([pcd])"
   ]
  },
  {
   "cell_type": "markdown",
   "metadata": {},
   "source": [
    "Geting the information."
   ]
  },
  {
   "cell_type": "code",
   "execution_count": 23,
   "metadata": {},
   "outputs": [
    {
     "data": {
      "text/plain": [
       "['X',\n",
       " 'Y',\n",
       " 'Z',\n",
       " 'intensity',\n",
       " 'return_number',\n",
       " 'number_of_returns',\n",
       " 'scan_direction_flag',\n",
       " 'edge_of_flight_line',\n",
       " 'classification',\n",
       " 'synthetic',\n",
       " 'key_point',\n",
       " 'withheld',\n",
       " 'scan_angle_rank',\n",
       " 'user_data',\n",
       " 'point_source_id',\n",
       " 'gps_time',\n",
       " 'red',\n",
       " 'green',\n",
       " 'blue']"
      ]
     },
     "execution_count": 23,
     "metadata": {},
     "output_type": "execute_result"
    }
   ],
   "source": [
    "list(las.point_format. dimension_names)"
   ]
  },
  {
   "cell_type": "markdown",
   "metadata": {},
   "source": [
    "Computing normal vectors."
   ]
  },
  {
   "cell_type": "code",
   "execution_count": 24,
   "metadata": {},
   "outputs": [],
   "source": [
    "pcd.estimate_normals(search_param = o3d.geometry.KDTreeSearchParamHybrid(radius=0.1, max_nn = 30))\n",
    "o3d.visualization.draw_geometries([pcd], point_show_normal = True)"
   ]
  },
  {
   "cell_type": "markdown",
   "metadata": {},
   "source": [
    "Feature extraction."
   ]
  },
  {
   "cell_type": "code",
   "execution_count": 25,
   "metadata": {},
   "outputs": [
    {
     "data": {
      "text/plain": [
       "array([0, 0, 0, ..., 0, 0, 0], dtype=uint16)"
      ]
     },
     "execution_count": 25,
     "metadata": {},
     "output_type": "execute_result"
    }
   ],
   "source": [
    "intensity = las.intensity\n",
    "intensity"
   ]
  },
  {
   "cell_type": "code",
   "execution_count": 26,
   "metadata": {},
   "outputs": [],
   "source": [
    "G = las.green; B=las.blue\n",
    "Ind = ((B-G)/(B+G))\n",
    "ef = las.edge_of_flight_line\n",
    "sl = las.scan_direction_flag"
   ]
  },
  {
   "cell_type": "markdown",
   "metadata": {},
   "source": [
    "Creation Data(feature) frame & preprocessing"
   ]
  },
  {
   "cell_type": "code",
   "execution_count": 27,
   "metadata": {},
   "outputs": [],
   "source": [
    "features = np.stack([las.Z, Ind]).transpose()\n",
    "scaler = MinMaxScaler()\n",
    "features = scaler.fit_transform(features)"
   ]
  },
  {
   "cell_type": "markdown",
   "metadata": {},
   "source": [
    "Clustering & visualization with KMeans."
   ]
  },
  {
   "cell_type": "code",
   "execution_count": 39,
   "metadata": {},
   "outputs": [],
   "source": [
    "clustering = KMeans(n_clusters=4, max_iter=800, random_state=0).fit(features)\n",
    "clustered_KM = clustering.labels_\n",
    "Counter(clustered_KM)\n",
    "\n",
    "clustered_pc_KM = np.vstack([las.X, las.Y, clustered_KM]).transpose()\n",
    "geom = o3d.geometry.PointCloud()\n",
    "geom.points = o3d.utility.Vector3dVector(clustered_pc_KM)\n",
    "o3d.visualization.draw_geometries([geom])"
   ]
  },
  {
   "cell_type": "markdown",
   "metadata": {},
   "source": [
    "Exporting results"
   ]
  },
  {
   "cell_type": "code",
   "execution_count": 35,
   "metadata": {},
   "outputs": [],
   "source": [
    "output = laspy.create(point_format = las.header.point_format)\n",
    "output.X = las.X\n",
    "output.Y = las.Y\n",
    "output.Z = las.Z\n",
    "output.classification = clustered_pc_KM[:,2]\n",
    "out_name = 'unsupervised_KM.Las'\n",
    "output.write(out_name)"
   ]
  },
  {
   "cell_type": "markdown",
   "metadata": {},
   "source": [
    "Clustering & visualization with GMM."
   ]
  },
  {
   "cell_type": "code",
   "execution_count": 40,
   "metadata": {},
   "outputs": [],
   "source": [
    "gmm = GaussianMixture(n_components=4).fit(features)\n",
    "clustered_GMM = gmm.predict(features)\n",
    "Counter(clustered_GMM)\n",
    "\n",
    "clustered_pc_GMM = np.vstack([las.X, las.Y, clustered_GMM]).transpose()\n",
    "geom = o3d.geometry.PointCloud()\n",
    "geom.points = o3d.utility.Vector3dVector(clustered_pc_GMM)\n",
    "o3d.visualization.draw_geometries([geom])"
   ]
  },
  {
   "cell_type": "markdown",
   "metadata": {},
   "source": [
    "Exporting results."
   ]
  },
  {
   "cell_type": "code",
   "execution_count": 37,
   "metadata": {},
   "outputs": [],
   "source": [
    "output = laspy.create(point_format = las.header.point_format)\n",
    "output.X = las.X\n",
    "output.Y = las.Y\n",
    "output.Z = las.Z\n",
    "output.classification = clustered_pc_GMM[:,2]\n",
    "out_name = 'unsupervised_KM.Las'\n",
    "output.write(out_name)"
   ]
  }
 ],
 "metadata": {
  "kernelspec": {
   "display_name": "LiDar",
   "language": "python",
   "name": "python3"
  },
  "language_info": {
   "codemirror_mode": {
    "name": "ipython",
    "version": 3
   },
   "file_extension": ".py",
   "mimetype": "text/x-python",
   "name": "python",
   "nbconvert_exporter": "python",
   "pygments_lexer": "ipython3",
   "version": "3.7.16"
  }
 },
 "nbformat": 4,
 "nbformat_minor": 2
}
