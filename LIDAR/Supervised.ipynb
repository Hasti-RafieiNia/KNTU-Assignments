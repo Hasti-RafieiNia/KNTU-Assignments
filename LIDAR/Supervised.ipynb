{
 "cells": [
  {
   "cell_type": "markdown",
   "metadata": {},
   "source": [
    "![logo 2.png](data:image/png;base64,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)\n",
    "# ***LiDar Assignment 02: PointCloud Supervised classification***\n",
    "\n",
    "**KNTU G.E engineering faculty _ 2023 November**\n",
    "\n",
    "*Hasti Rafiei Nia* \n",
    "\n",
    "*Student Number : 9926683*\n"
   ]
  },
  {
   "cell_type": "markdown",
   "metadata": {},
   "source": [
    "Importing libraries."
   ]
  },
  {
   "cell_type": "code",
   "execution_count": 70,
   "metadata": {},
   "outputs": [],
   "source": [
    "import os\n",
    "import laspy\n",
    "import numpy as np\n",
    "import open3d as o3d\n",
    "import matplotlib as mpl\n",
    "from sklearn.svm import SVC\n",
    "from sklearn import metrics\n",
    "import matplotlib.pyplot as plt\n",
    "from collections import Counter\n",
    "mpl.rc('font', family ='Times New Roman')\n",
    "from sklearn.preprocessing import MinMaxScaler\n",
    "from sklearn. tree import DecisionTreeClassifier\n",
    "from sklearn.metrics import classification_report\n",
    "from sklearn.neighbors import KNeighborsClassifier\n",
    "from sklearn. ensemble import RandomForestClassifier\n",
    "from sklearn.model_selection import train_test_split\n",
    "from sklearn.metrics import accuracy_score, classification_report"
   ]
  },
  {
   "cell_type": "markdown",
   "metadata": {},
   "source": [
    "Change directory & read point cloud (pc) data. "
   ]
  },
  {
   "cell_type": "code",
   "execution_count": 71,
   "metadata": {},
   "outputs": [],
   "source": [
    "os.chdir('D:/')\n",
    "las = laspy.read('nonground_training.Las')\n",
    "las_f = laspy.read('Training_FlatRoof.Las')\n",
    "las_s = laspy.read('Training_SlopingRoof.Las')\n",
    "las_t = laspy.read('Training_Tree.Las')\n",
    "las_g = laspy.read('Training_Ground.Las')"
   ]
  },
  {
   "cell_type": "markdown",
   "metadata": {},
   "source": [
    "Convert las to numpy array format.\n"
   ]
  },
  {
   "cell_type": "code",
   "execution_count": 72,
   "metadata": {},
   "outputs": [
    {
     "name": "stdout",
     "output_type": "stream",
     "text": [
      "(511627, 3) (1768, 3) (6026, 3) (998, 3)\n"
     ]
    }
   ],
   "source": [
    "pc = np.vstack([las.X, las.Y, las.Z]).transpose()\n",
    "pc_s = np.vstack([las_s.X, las_s.Y, las_s.Z]).transpose()\n",
    "pc_f = np.vstack([las_f.X, las_f.Y, las_f.Z]).transpose()\n",
    "pc_t = np.vstack([las_t.X, las_t.Y,las_t.Z]).transpose()\n",
    "pc_g = np.vstack([las_g.X, las_g.Y, las_g.Z]).transpose()\n",
    "print(pc.shape, pc_s.shape, pc_t.shape, pc_g.shape)"
   ]
  },
  {
   "cell_type": "markdown",
   "metadata": {},
   "source": [
    "3D Point cloud visualization."
   ]
  },
  {
   "cell_type": "code",
   "execution_count": 73,
   "metadata": {},
   "outputs": [],
   "source": [
    "pcd = o3d.geometry.PointCloud()\n",
    "pcd.points = o3d.utility.Vector3dVector(pc)\n",
    "o3d.visualization.draw_geometries([pcd])\n",
    "\n",
    "pcd_s = o3d.geometry.PointCloud()\n",
    "pcd_s.points = o3d.utility.Vector3dVector(pc_s)\n",
    "o3d.visualization.draw_geometries([pcd_s])\n",
    "\n",
    "pcd_f = o3d.geometry.PointCloud()\n",
    "pcd_f.points = o3d.utility.Vector3dVector(pc_f)\n",
    "o3d.visualization.draw_geometries([pcd_f])\n",
    " \n",
    "pcd_t = o3d.geometry.PointCloud()\n",
    "pcd_t.points = o3d.utility.Vector3dVector(pc_t)\n",
    "o3d.visualization.draw_geometries([pcd_t])\n",
    "\n",
    "pcd_g = o3d.geometry.PointCloud()\n",
    "pcd_g.points = o3d.utility.Vector3dVector(pc_g)\n",
    "o3d.visualization.draw_geometries([pcd_g])"
   ]
  },
  {
   "cell_type": "markdown",
   "metadata": {},
   "source": [
    "Set labels for sample points.\n",
    "* 1-class Sloping Roof.\n"
   ]
  },
  {
   "cell_type": "code",
   "execution_count": 74,
   "metadata": {},
   "outputs": [
    {
     "name": "stdout",
     "output_type": "stream",
     "text": [
      "(1768, 3) (1768, 3)\n"
     ]
    }
   ],
   "source": [
    "set_s = set(map(tuple, pc_s))\n",
    "idx_s = [tuple(point) in set_s for point in pc]\n",
    "print(pc_s.shape, pc[idx_s].shape)"
   ]
  },
  {
   "cell_type": "markdown",
   "metadata": {},
   "source": [
    "* 1-class Flat Roof."
   ]
  },
  {
   "cell_type": "code",
   "execution_count": 75,
   "metadata": {},
   "outputs": [
    {
     "name": "stdout",
     "output_type": "stream",
     "text": [
      "(254, 3) (254, 3)\n"
     ]
    }
   ],
   "source": [
    "set_f = set(map(tuple, pc_f))\n",
    "idx_f = [tuple(point) in set_f for point in pc]\n",
    "print(pc_f.shape, pc[idx_f].shape)"
   ]
  },
  {
   "cell_type": "markdown",
   "metadata": {},
   "source": [
    "* 2-class Tree."
   ]
  },
  {
   "cell_type": "code",
   "execution_count": 76,
   "metadata": {},
   "outputs": [
    {
     "name": "stdout",
     "output_type": "stream",
     "text": [
      "(6026, 3) (6026, 3)\n"
     ]
    }
   ],
   "source": [
    "set_t = set(map(tuple,pc_t))\n",
    "idx_t = [tuple(point) in set_t for point in pc]\n",
    "print(pc_t.shape, pc[idx_t].shape)"
   ]
  },
  {
   "cell_type": "markdown",
   "metadata": {},
   "source": [
    "* 3-class Ground. "
   ]
  },
  {
   "cell_type": "code",
   "execution_count": 77,
   "metadata": {},
   "outputs": [
    {
     "name": "stdout",
     "output_type": "stream",
     "text": [
      "(998, 3) (998, 3)\n"
     ]
    }
   ],
   "source": [
    "set_g = set(map(tuple,pc_g))\n",
    "idx_g = [tuple(point) in set_g for point in pc]\n",
    "print(pc_g.shape, pc[idx_g].shape)"
   ]
  },
  {
   "cell_type": "markdown",
   "metadata": {},
   "source": [
    "Defining label column."
   ]
  },
  {
   "cell_type": "code",
   "execution_count": 78,
   "metadata": {},
   "outputs": [
    {
     "name": "stdout",
     "output_type": "stream",
     "text": [
      "(511627, 4)\n"
     ]
    }
   ],
   "source": [
    "labels = np.zeros((len(pc), 1))\n",
    "pc_new = np.hstack([pc, labels])\n",
    "print(pc_new.shape)"
   ]
  },
  {
   "cell_type": "markdown",
   "metadata": {},
   "source": [
    "Set labels as: \n",
    "1 = building\n",
    "\n",
    "2 = tree\n",
    "\n",
    "3 = ground\n",
    "\n",
    "0 = unclassified points\n"
   ]
  },
  {
   "cell_type": "code",
   "execution_count": 79,
   "metadata": {},
   "outputs": [
    {
     "data": {
      "text/plain": [
       "Counter({0.0: 502581, 4.0: 998, 3.0: 6026, 1.0: 1768, 2.0: 254})"
      ]
     },
     "execution_count": 79,
     "metadata": {},
     "output_type": "execute_result"
    }
   ],
   "source": [
    "pc_new[idx_s,3] = 1 \n",
    "pc_new[idx_f,3] = 2\n",
    "pc_new[idx_t,3] = 3 \n",
    "pc_new[idx_g,3] = 4 \n",
    "Counter(pc_new[:,3])"
   ]
  },
  {
   "cell_type": "markdown",
   "metadata": {},
   "source": [
    "Feature extraction. "
   ]
  },
  {
   "cell_type": "code",
   "execution_count": 80,
   "metadata": {},
   "outputs": [
    {
     "data": {
      "text/plain": [
       "array([0, 0, 0, ..., 0, 0, 0], dtype=uint16)"
      ]
     },
     "execution_count": 80,
     "metadata": {},
     "output_type": "execute_result"
    }
   ],
   "source": [
    "intensity = las.intensity\n",
    "intensity"
   ]
  },
  {
   "cell_type": "code",
   "execution_count": 81,
   "metadata": {},
   "outputs": [
    {
     "data": {
      "text/plain": [
       "array([0.56692913, 0.79527559, 0.69291339, ..., 0.25984252, 0.25984252,\n",
       "       0.25984252])"
      ]
     },
     "execution_count": 81,
     "metadata": {},
     "output_type": "execute_result"
    }
   ],
   "source": [
    "ind = ((las.blue - las.green)/(las.blue + las.green))\n",
    "ind"
   ]
  },
  {
   "cell_type": "markdown",
   "metadata": {},
   "source": [
    "Creation Data(feature) frame & preprocessing."
   ]
  },
  {
   "cell_type": "code",
   "execution_count": 82,
   "metadata": {},
   "outputs": [
    {
     "name": "stdout",
     "output_type": "stream",
     "text": [
      "(9046, 4) (9046, 2)\n"
     ]
    }
   ],
   "source": [
    "features = np.stack([las.Z, ind]).transpose()\n",
    "scaler = MinMaxScaler()\n",
    "features = scaler.fit_transform(features)\n",
    "\n",
    "sample_pc = pc_new[pc_new[:, 3] != 0]\n",
    "sample_features = features[pc_new[:, 3] !=0]\n",
    "print (sample_pc.shape, sample_features.shape)"
   ]
  },
  {
   "cell_type": "markdown",
   "metadata": {},
   "source": [
    "Train_Test split.\n"
   ]
  },
  {
   "cell_type": "code",
   "execution_count": 83,
   "metadata": {},
   "outputs": [
    {
     "name": "stdout",
     "output_type": "stream",
     "text": [
      "(9046, 2) (9046,)\n"
     ]
    }
   ],
   "source": [
    "x = sample_features\n",
    "y = sample_pc[:,3]\n",
    "print(x.shape, y.shape)"
   ]
  },
  {
   "cell_type": "code",
   "execution_count": 84,
   "metadata": {},
   "outputs": [
    {
     "name": "stdout",
     "output_type": "stream",
     "text": [
      "___Train Size____ \n",
      "\n",
      "(6332, 2) (6332,) \n",
      "\n",
      "___Test Size_____ \n",
      "\n",
      "(2714, 2) (2714,)\n"
     ]
    }
   ],
   "source": [
    "x_train, x_test, y_train, y_test = train_test_split(x, y, test_size = 0.3)\n",
    "print(\"___Train Size____\" , \"\\n\")\n",
    "print(x_train.shape, y_train.shape,\"\\n\")\n",
    "print(\"___Test Size_____\",\"\\n\")\n",
    "print(x_test.shape,y_test.shape)\n"
   ]
  },
  {
   "cell_type": "markdown",
   "metadata": {},
   "source": [
    "Classification & visualization.\n"
   ]
  },
  {
   "cell_type": "code",
   "execution_count": 89,
   "metadata": {},
   "outputs": [
    {
     "ename": "RuntimeError",
     "evalue": "Unable to cast Python instance to C++ type (compile in debug mode for details)",
     "output_type": "error",
     "traceback": [
      "\u001b[1;31m---------------------------------------------------------------------------\u001b[0m",
      "\u001b[1;31mRuntimeError\u001b[0m                              Traceback (most recent call last)",
      "\u001b[1;32m~\\AppData\\Local\\Temp\\ipykernel_2676\\4125727226.py\u001b[0m in \u001b[0;36m<module>\u001b[1;34m\u001b[0m\n\u001b[0;32m      9\u001b[0m \u001b[0mclassified_pc_RF\u001b[0m \u001b[1;33m=\u001b[0m \u001b[0mnp\u001b[0m\u001b[1;33m.\u001b[0m\u001b[0mstack\u001b[0m\u001b[1;33m(\u001b[0m\u001b[1;33m[\u001b[0m\u001b[0mlas\u001b[0m\u001b[1;33m.\u001b[0m\u001b[0mX\u001b[0m\u001b[1;33m,\u001b[0m \u001b[0mlas\u001b[0m\u001b[1;33m.\u001b[0m\u001b[0mY\u001b[0m\u001b[1;33m,\u001b[0m \u001b[0mlas\u001b[0m\u001b[1;33m.\u001b[0m\u001b[0mZ\u001b[0m\u001b[1;33m,\u001b[0m \u001b[0mpred_total_RF\u001b[0m\u001b[1;33m]\u001b[0m\u001b[1;33m)\u001b[0m\u001b[1;33m.\u001b[0m\u001b[0mtranspose\u001b[0m\u001b[1;33m(\u001b[0m\u001b[1;33m)\u001b[0m\u001b[1;33m\u001b[0m\u001b[1;33m\u001b[0m\u001b[0m\n\u001b[0;32m     10\u001b[0m \u001b[0mgeom\u001b[0m \u001b[1;33m=\u001b[0m \u001b[0mo3d\u001b[0m\u001b[1;33m.\u001b[0m\u001b[0mgeometry\u001b[0m\u001b[1;33m.\u001b[0m\u001b[0mPointCloud\u001b[0m\u001b[1;33m(\u001b[0m\u001b[1;33m)\u001b[0m\u001b[1;33m\u001b[0m\u001b[1;33m\u001b[0m\u001b[0m\n\u001b[1;32m---> 11\u001b[1;33m \u001b[0mgeom\u001b[0m\u001b[1;33m.\u001b[0m\u001b[0mpoints\u001b[0m \u001b[1;33m=\u001b[0m \u001b[0mo3d\u001b[0m\u001b[1;33m.\u001b[0m\u001b[0mutility\u001b[0m\u001b[1;33m.\u001b[0m\u001b[0mVector3dVector\u001b[0m\u001b[1;33m(\u001b[0m\u001b[0mclassified_pc_RF\u001b[0m\u001b[1;33m)\u001b[0m\u001b[1;33m\u001b[0m\u001b[1;33m\u001b[0m\u001b[0m\n\u001b[0m\u001b[0;32m     12\u001b[0m \u001b[0mo3d\u001b[0m\u001b[1;33m.\u001b[0m\u001b[0mvisualization\u001b[0m\u001b[1;33m.\u001b[0m\u001b[0mdraw_geometries\u001b[0m\u001b[1;33m(\u001b[0m\u001b[1;33m[\u001b[0m\u001b[0mgeom\u001b[0m\u001b[1;33m]\u001b[0m\u001b[1;33m)\u001b[0m\u001b[1;33m\u001b[0m\u001b[1;33m\u001b[0m\u001b[0m\n",
      "\u001b[1;31mRuntimeError\u001b[0m: Unable to cast Python instance to C++ type (compile in debug mode for details)"
     ]
    }
   ],
   "source": [
    "clf1 = RandomForestClassifier(n_estimators=800, max_depth=3, random_state=0)\n",
    "clf1.fit(x_train, y_train)\n",
    "pred_test_RF = clf1.predict(x_test)\n",
    "pred_total_RF= clf1.predict(features)\n",
    "\n",
    "Counter(pred_test_RF)\n",
    "Counter(pred_total_RF)\n",
    "\n",
    "classified_pc_RF = np.stack([las.X, las.Y, las.Z, pred_total_RF]).transpose()\n",
    "geom = o3d.geometry.PointCloud()\n",
    "geom.points = o3d.utility.Vector3dVector(classified_pc_RF)\n",
    "o3d.visualization.draw_geometries([geom])"
   ]
  },
  {
   "cell_type": "markdown",
   "metadata": {},
   "source": [
    "Validation.\n",
    "\n",
    "\n",
    "Confusion matrix.\n"
   ]
  },
  {
   "cell_type": "code",
   "execution_count": 90,
   "metadata": {},
   "outputs": [
    {
     "data": {
      "image/png": "[encoded data removed]",
      "text/plain": [
       "<Figure size 640x480 with 2 Axes>"
      ]
     },
     "metadata": {},
     "output_type": "display_data"
    }
   ],
   "source": [
    "confusion_matrix = metrics.confusion_matrix(y_test, pred_test_RF)\n",
    "cm_display = metrics.ConfusionMatrixDisplay(confusion_matrix = confusion_matrix,\n",
    "display_labels = ['Sloping Roof', 'Flat Roof', 'Tree', 'Ground'])\n",
    "cm_display.plot()\n",
    "plt.show()"
   ]
  },
  {
   "cell_type": "markdown",
   "metadata": {},
   "source": [
    "Metric."
   ]
  },
  {
   "cell_type": "code",
   "execution_count": 91,
   "metadata": {},
   "outputs": [
    {
     "name": "stdout",
     "output_type": "stream",
     "text": [
      "              precision    recall  f1-score   support\n",
      "\n",
      "Sloping Roof       0.58      0.93      0.71       529\n",
      "   Flat Roof       0.00      0.00      0.00        68\n",
      "        Tree       0.97      0.81      0.88      1815\n",
      "      Ground       0.87      0.99      0.93       302\n",
      "\n",
      "    accuracy                           0.83      2714\n",
      "   macro avg       0.60      0.68      0.63      2714\n",
      "weighted avg       0.86      0.83      0.83      2714\n",
      "\n"
     ]
    },
    {
     "name": "stderr",
     "output_type": "stream",
     "text": [
      "c:\\Users\\HOME\\anaconda3\\envs\\LiDar\\lib\\site-packages\\sklearn\\metrics\\_classification.py:1318: UndefinedMetricWarning: Precision and F-score are ill-defined and being set to 0.0 in labels with no predicted samples. Use `zero_division` parameter to control this behavior.\n",
      "  _warn_prf(average, modifier, msg_start, len(result))\n",
      "c:\\Users\\HOME\\anaconda3\\envs\\LiDar\\lib\\site-packages\\sklearn\\metrics\\_classification.py:1318: UndefinedMetricWarning: Precision and F-score are ill-defined and being set to 0.0 in labels with no predicted samples. Use `zero_division` parameter to control this behavior.\n",
      "  _warn_prf(average, modifier, msg_start, len(result))\n",
      "c:\\Users\\HOME\\anaconda3\\envs\\LiDar\\lib\\site-packages\\sklearn\\metrics\\_classification.py:1318: UndefinedMetricWarning: Precision and F-score are ill-defined and being set to 0.0 in labels with no predicted samples. Use `zero_division` parameter to control this behavior.\n",
      "  _warn_prf(average, modifier, msg_start, len(result))\n"
     ]
    }
   ],
   "source": [
    "print(classification_report(y_test, pred_test_RF, target_names=['Sloping Roof', 'Flat Roof', 'Tree', 'Ground']))"
   ]
  },
  {
   "cell_type": "markdown",
   "metadata": {},
   "source": [
    "Exporting results."
   ]
  },
  {
   "cell_type": "code",
   "execution_count": 92,
   "metadata": {},
   "outputs": [],
   "source": [
    "output = laspy.create(point_format = las.header.point_format)\n",
    "output.X = las.X\n",
    "output.Y = las.Y\n",
    "output.Z = las.Z\n",
    "output.classification = classified_pc_RF[:,3]\n",
    "\n",
    "out_name = 'supervised_RF.Las'\n",
    "output.write(out_name)"
   ]
  },
  {
   "cell_type": "markdown",
   "metadata": {},
   "source": [
    "Classification with SVM model.\n"
   ]
  },
  {
   "cell_type": "code",
   "execution_count": 93,
   "metadata": {},
   "outputs": [
    {
     "ename": "RuntimeError",
     "evalue": "Unable to cast Python instance to C++ type (compile in debug mode for details)",
     "output_type": "error",
     "traceback": [
      "\u001b[1;31m---------------------------------------------------------------------------\u001b[0m",
      "\u001b[1;31mRuntimeError\u001b[0m                              Traceback (most recent call last)",
      "\u001b[1;32m~\\AppData\\Local\\Temp\\ipykernel_2676\\1188242951.py\u001b[0m in \u001b[0;36m<module>\u001b[1;34m\u001b[0m\n\u001b[0;32m      6\u001b[0m \u001b[0mclassified_pc_SVM\u001b[0m \u001b[1;33m=\u001b[0m \u001b[0mnp\u001b[0m\u001b[1;33m.\u001b[0m\u001b[0mstack\u001b[0m\u001b[1;33m(\u001b[0m\u001b[1;33m[\u001b[0m\u001b[0mlas\u001b[0m\u001b[1;33m.\u001b[0m\u001b[0mX\u001b[0m\u001b[1;33m,\u001b[0m \u001b[0mlas\u001b[0m\u001b[1;33m.\u001b[0m\u001b[0mY\u001b[0m\u001b[1;33m,\u001b[0m \u001b[0mlas\u001b[0m\u001b[1;33m.\u001b[0m\u001b[0mZ\u001b[0m\u001b[1;33m,\u001b[0m \u001b[0mpred_total_SVM\u001b[0m\u001b[1;33m]\u001b[0m\u001b[1;33m)\u001b[0m\u001b[1;33m.\u001b[0m\u001b[0mtranspose\u001b[0m\u001b[1;33m(\u001b[0m\u001b[1;33m)\u001b[0m\u001b[1;33m\u001b[0m\u001b[1;33m\u001b[0m\u001b[0m\n\u001b[0;32m      7\u001b[0m \u001b[0mgeom\u001b[0m \u001b[1;33m=\u001b[0m \u001b[0mo3d\u001b[0m\u001b[1;33m.\u001b[0m\u001b[0mgeometry\u001b[0m\u001b[1;33m.\u001b[0m\u001b[0mPointCloud\u001b[0m\u001b[1;33m(\u001b[0m\u001b[1;33m)\u001b[0m\u001b[1;33m\u001b[0m\u001b[1;33m\u001b[0m\u001b[0m\n\u001b[1;32m----> 8\u001b[1;33m \u001b[0mgeom\u001b[0m\u001b[1;33m.\u001b[0m\u001b[0mpoints\u001b[0m \u001b[1;33m=\u001b[0m \u001b[0mo3d\u001b[0m\u001b[1;33m.\u001b[0m\u001b[0mutility\u001b[0m\u001b[1;33m.\u001b[0m\u001b[0mVector3dVector\u001b[0m\u001b[1;33m(\u001b[0m\u001b[0mclassified_pc_SVM\u001b[0m\u001b[1;33m)\u001b[0m\u001b[1;33m\u001b[0m\u001b[1;33m\u001b[0m\u001b[0m\n\u001b[0m\u001b[0;32m      9\u001b[0m \u001b[0mo3d\u001b[0m\u001b[1;33m.\u001b[0m\u001b[0mvisualization\u001b[0m\u001b[1;33m.\u001b[0m\u001b[0mdraw_geometries\u001b[0m\u001b[1;33m(\u001b[0m\u001b[1;33m[\u001b[0m\u001b[0mgeom\u001b[0m\u001b[1;33m]\u001b[0m\u001b[1;33m)\u001b[0m\u001b[1;33m\u001b[0m\u001b[1;33m\u001b[0m\u001b[0m\n",
      "\u001b[1;31mRuntimeError\u001b[0m: Unable to cast Python instance to C++ type (compile in debug mode for details)"
     ]
    }
   ],
   "source": [
    "model = SVC(kernel='linear', C=4, gamma='auto')\n",
    "model.fit(x_train, y_train)\n",
    "pred_test_SVM = model.predict(x_test)\n",
    "pred_total_SVM = model.predict(features)\n",
    "\n",
    "classified_pc_SVM = np.stack([las.X, las.Y, las.Z, pred_total_SVM]).transpose()\n",
    "geom = o3d.geometry.PointCloud()\n",
    "geom.points = o3d.utility.Vector3dVector(classified_pc_SVM)\n",
    "o3d.visualization.draw_geometries([geom])"
   ]
  },
  {
   "cell_type": "markdown",
   "metadata": {},
   "source": [
    "Confusion Matrix."
   ]
  },
  {
   "cell_type": "code",
   "execution_count": 94,
   "metadata": {},
   "outputs": [
    {
     "data": {
      "image/png": "[encoded data removed]",
      "text/plain": [
       "<Figure size 640x480 with 2 Axes>"
      ]
     },
     "metadata": {},
     "output_type": "display_data"
    }
   ],
   "source": [
    "confusion_matrix = metrics.confusion_matrix(y_test, pred_test_SVM)\n",
    "cm_display = metrics.ConfusionMatrixDisplay(confusion_matrix = confusion_matrix,\n",
    "display_labels = ['Sloping Roof', 'Flat Roof', 'Tree', 'Ground'])\n",
    "cm_display.plot()\n",
    "plt.show()"
   ]
  },
  {
   "cell_type": "markdown",
   "metadata": {},
   "source": [
    "Metrics."
   ]
  },
  {
   "cell_type": "code",
   "execution_count": 95,
   "metadata": {},
   "outputs": [
    {
     "name": "stdout",
     "output_type": "stream",
     "text": [
      "SVM Model Accuracy: 0.8154016212232866 \n",
      "\n",
      "Classification Report:\n",
      "              precision    recall  f1-score   support\n",
      "\n",
      "         1.0       0.58      0.79      0.67       529\n",
      "         2.0       0.00      0.00      0.00        68\n",
      "         3.0       0.94      0.82      0.88      1815\n",
      "         4.0       0.74      1.00      0.85       302\n",
      "\n",
      "    accuracy                           0.82      2714\n",
      "   macro avg       0.57      0.65      0.60      2714\n",
      "weighted avg       0.82      0.82      0.81      2714\n",
      "\n"
     ]
    },
    {
     "name": "stderr",
     "output_type": "stream",
     "text": [
      "c:\\Users\\HOME\\anaconda3\\envs\\LiDar\\lib\\site-packages\\sklearn\\metrics\\_classification.py:1318: UndefinedMetricWarning: Precision and F-score are ill-defined and being set to 0.0 in labels with no predicted samples. Use `zero_division` parameter to control this behavior.\n",
      "  _warn_prf(average, modifier, msg_start, len(result))\n",
      "c:\\Users\\HOME\\anaconda3\\envs\\LiDar\\lib\\site-packages\\sklearn\\metrics\\_classification.py:1318: UndefinedMetricWarning: Precision and F-score are ill-defined and being set to 0.0 in labels with no predicted samples. Use `zero_division` parameter to control this behavior.\n",
      "  _warn_prf(average, modifier, msg_start, len(result))\n",
      "c:\\Users\\HOME\\anaconda3\\envs\\LiDar\\lib\\site-packages\\sklearn\\metrics\\_classification.py:1318: UndefinedMetricWarning: Precision and F-score are ill-defined and being set to 0.0 in labels with no predicted samples. Use `zero_division` parameter to control this behavior.\n",
      "  _warn_prf(average, modifier, msg_start, len(result))\n"
     ]
    }
   ],
   "source": [
    "print(\"SVM Model Accuracy:\", accuracy_score(y_test,pred_test_SVM),\"\\n\")\n",
    "print(\"Classification Report:\")\n",
    "print(classification_report(y_test, pred_test_SVM))"
   ]
  },
  {
   "cell_type": "code",
   "execution_count": 96,
   "metadata": {},
   "outputs": [],
   "source": [
    "output = laspy.create(point_format = las.header.point_format)\n",
    "output.X = las.X\n",
    "output.Y = las.Y\n",
    "output.Z = las.Z\n",
    "output.classification = classified_pc_SVM[:,3]\n",
    "\n",
    "out_name = 'supervised_SVM.Las'\n",
    "output.write(out_name)"
   ]
  }
 ],
 "metadata": {
  "kernelspec": {
   "display_name": "LiDar",
   "language": "python",
   "name": "python3"
  },
  "language_info": {
   "codemirror_mode": {
    "name": "ipython",
    "version": 3
   },
   "file_extension": ".py",
   "mimetype": "text/x-python",
   "name": "python",
   "nbconvert_exporter": "python",
   "pygments_lexer": "ipython3",
   "version": "3.7.16"
  }
 },
 "nbformat": 4,
 "nbformat_minor": 2
}
