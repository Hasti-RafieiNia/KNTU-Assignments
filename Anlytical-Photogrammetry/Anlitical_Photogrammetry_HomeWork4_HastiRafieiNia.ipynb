{
  "nbformat": 4,
  "nbformat_minor": 0,
  "metadata": {
    "colab": {
      "provenance": []
    },
    "kernelspec": {
      "name": "python3",
      "display_name": "Python 3"
    },
    "language_info": {
      "name": "python"
    }
  },
  "cells": [
    {
      "cell_type": "markdown",
      "source": [
        "# ***Anylitical Photogrammetry HomeWork 4***\n",
        "\n",
        "KNTU G.E engineering faculty _ 2022 December\n",
        "\n",
        "*By : Hasti Rafiei Nia*\n",
        "\n",
        "*Student Code : 9926683*"
      ],
      "metadata": {
        "id": "WbGYigvTPoCs"
      }
    },
    {
      "cell_type": "code",
      "source": [
        "from google.colab import files\n",
        "F = files.upload()"
      ],
      "metadata": {
        "colab": {
          "base_uri": "https://localhost:8080/",
          "height": 73
        },
        "id": "QNBBxzesQbep",
        "outputId": "33c00540-6a1e-4dae-9906-6c5f95f7d524"
      },
      "execution_count": null,
      "outputs": [
        {
          "output_type": "display_data",
          "data": {
            "text/plain": [
              "<IPython.core.display.HTML object>"
            ],
            "text/html": [
              "\n",
              "     <input type=\"file\" id=\"files-510def7f-40ba-43b6-939a-9400bc759e0b\" name=\"files[]\" multiple disabled\n",
              "        style=\"border:none\" />\n",
              "     <output id=\"result-510def7f-40ba-43b6-939a-9400bc759e0b\">\n",
              "      Upload widget is only available when the cell has been executed in the\n",
              "      current browser session. Please rerun this cell to enable.\n",
              "      </output>\n",
              "      <script>// Copyright 2017 Google LLC\n",
              "//\n",
              "// Licensed under the Apache License, Version 2.0 (the \"License\");\n",
              "// you may not use this file except in compliance with the License.\n",
              "// You may obtain a copy of the License at\n",
              "//\n",
              "//      http://www.apache.org/licenses/LICENSE-2.0\n",
              "//\n",
              "// Unless required by applicable law or agreed to in writing, software\n",
              "// distributed under the License is distributed on an \"AS IS\" BASIS,\n",
              "// WITHOUT WARRANTIES OR CONDITIONS OF ANY KIND, either express or implied.\n",
              "// See the License for the specific language governing permissions and\n",
              "// limitations under the License.\n",
              "\n",
              "/**\n",
              " * @fileoverview Helpers for google.colab Python module.\n",
              " */\n",
              "(function(scope) {\n",
              "function span(text, styleAttributes = {}) {\n",
              "  const element = document.createElement('span');\n",
              "  element.textContent = text;\n",
              "  for (const key of Object.keys(styleAttributes)) {\n",
              "    element.style[key] = styleAttributes[key];\n",
              "  }\n",
              "  return element;\n",
              "}\n",
              "\n",
              "// Max number of bytes which will be uploaded at a time.\n",
              "const MAX_PAYLOAD_SIZE = 100 * 1024;\n",
              "\n",
              "function _uploadFiles(inputId, outputId) {\n",
              "  const steps = uploadFilesStep(inputId, outputId);\n",
              "  const outputElement = document.getElementById(outputId);\n",
              "  // Cache steps on the outputElement to make it available for the next call\n",
              "  // to uploadFilesContinue from Python.\n",
              "  outputElement.steps = steps;\n",
              "\n",
              "  return _uploadFilesContinue(outputId);\n",
              "}\n",
              "\n",
              "// This is roughly an async generator (not supported in the browser yet),\n",
              "// where there are multiple asynchronous steps and the Python side is going\n",
              "// to poll for completion of each step.\n",
              "// This uses a Promise to block the python side on completion of each step,\n",
              "// then passes the result of the previous step as the input to the next step.\n",
              "function _uploadFilesContinue(outputId) {\n",
              "  const outputElement = document.getElementById(outputId);\n",
              "  const steps = outputElement.steps;\n",
              "\n",
              "  const next = steps.next(outputElement.lastPromiseValue);\n",
              "  return Promise.resolve(next.value.promise).then((value) => {\n",
              "    // Cache the last promise value to make it available to the next\n",
              "    // step of the generator.\n",
              "    outputElement.lastPromiseValue = value;\n",
              "    return next.value.response;\n",
              "  });\n",
              "}\n",
              "\n",
              "/**\n",
              " * Generator function which is called between each async step of the upload\n",
              " * process.\n",
              " * @param {string} inputId Element ID of the input file picker element.\n",
              " * @param {string} outputId Element ID of the output display.\n",
              " * @return {!Iterable<!Object>} Iterable of next steps.\n",
              " */\n",
              "function* uploadFilesStep(inputId, outputId) {\n",
              "  const inputElement = document.getElementById(inputId);\n",
              "  inputElement.disabled = false;\n",
              "\n",
              "  const outputElement = document.getElementById(outputId);\n",
              "  outputElement.innerHTML = '';\n",
              "\n",
              "  const pickedPromise = new Promise((resolve) => {\n",
              "    inputElement.addEventListener('change', (e) => {\n",
              "      resolve(e.target.files);\n",
              "    });\n",
              "  });\n",
              "\n",
              "  const cancel = document.createElement('button');\n",
              "  inputElement.parentElement.appendChild(cancel);\n",
              "  cancel.textContent = 'Cancel upload';\n",
              "  const cancelPromise = new Promise((resolve) => {\n",
              "    cancel.onclick = () => {\n",
              "      resolve(null);\n",
              "    };\n",
              "  });\n",
              "\n",
              "  // Wait for the user to pick the files.\n",
              "  const files = yield {\n",
              "    promise: Promise.race([pickedPromise, cancelPromise]),\n",
              "    response: {\n",
              "      action: 'starting',\n",
              "    }\n",
              "  };\n",
              "\n",
              "  cancel.remove();\n",
              "\n",
              "  // Disable the input element since further picks are not allowed.\n",
              "  inputElement.disabled = true;\n",
              "\n",
              "  if (!files) {\n",
              "    return {\n",
              "      response: {\n",
              "        action: 'complete',\n",
              "      }\n",
              "    };\n",
              "  }\n",
              "\n",
              "  for (const file of files) {\n",
              "    const li = document.createElement('li');\n",
              "    li.append(span(file.name, {fontWeight: 'bold'}));\n",
              "    li.append(span(\n",
              "        `(${file.type || 'n/a'}) - ${file.size} bytes, ` +\n",
              "        `last modified: ${\n",
              "            file.lastModifiedDate ? file.lastModifiedDate.toLocaleDateString() :\n",
              "                                    'n/a'} - `));\n",
              "    const percent = span('0% done');\n",
              "    li.appendChild(percent);\n",
              "\n",
              "    outputElement.appendChild(li);\n",
              "\n",
              "    const fileDataPromise = new Promise((resolve) => {\n",
              "      const reader = new FileReader();\n",
              "      reader.onload = (e) => {\n",
              "        resolve(e.target.result);\n",
              "      };\n",
              "      reader.readAsArrayBuffer(file);\n",
              "    });\n",
              "    // Wait for the data to be ready.\n",
              "    let fileData = yield {\n",
              "      promise: fileDataPromise,\n",
              "      response: {\n",
              "        action: 'continue',\n",
              "      }\n",
              "    };\n",
              "\n",
              "    // Use a chunked sending to avoid message size limits. See b/62115660.\n",
              "    let position = 0;\n",
              "    do {\n",
              "      const length = Math.min(fileData.byteLength - position, MAX_PAYLOAD_SIZE);\n",
              "      const chunk = new Uint8Array(fileData, position, length);\n",
              "      position += length;\n",
              "\n",
              "      const base64 = btoa(String.fromCharCode.apply(null, chunk));\n",
              "      yield {\n",
              "        response: {\n",
              "          action: 'append',\n",
              "          file: file.name,\n",
              "          data: base64,\n",
              "        },\n",
              "      };\n",
              "\n",
              "      let percentDone = fileData.byteLength === 0 ?\n",
              "          100 :\n",
              "          Math.round((position / fileData.byteLength) * 100);\n",
              "      percent.textContent = `${percentDone}% done`;\n",
              "\n",
              "    } while (position < fileData.byteLength);\n",
              "  }\n",
              "\n",
              "  // All done.\n",
              "  yield {\n",
              "    response: {\n",
              "      action: 'complete',\n",
              "    }\n",
              "  };\n",
              "}\n",
              "\n",
              "scope.google = scope.google || {};\n",
              "scope.google.colab = scope.google.colab || {};\n",
              "scope.google.colab._files = {\n",
              "  _uploadFiles,\n",
              "  _uploadFilesContinue,\n",
              "};\n",
              "})(self);\n",
              "</script> "
            ]
          },
          "metadata": {}
        },
        {
          "output_type": "stream",
          "name": "stdout",
          "text": [
            "Saving Homework3.xlsx to Homework3 (2).xlsx\n"
          ]
        }
      ]
    },
    {
      "cell_type": "code",
      "source": [
        "import numpy as np \n",
        "import matplotlib.pyplot as plt \n",
        "import matplotlib as mpl \n",
        "import pandas as pd\n",
        "import sympy as sp"
      ],
      "metadata": {
        "id": "8FmB2g_8eUV7"
      },
      "execution_count": null,
      "outputs": []
    },
    {
      "cell_type": "code",
      "source": [
        "df = pd.read_excel(r'Homework3.xlsx')\n",
        "x = df['x']\n",
        "y = df['y']\n",
        "E = df['E']\n",
        "N = df['N']"
      ],
      "metadata": {
        "id": "65Rm2CFydDC6"
      },
      "execution_count": null,
      "outputs": []
    },
    {
      "cell_type": "markdown",
      "source": [
        "Based on distrbution of points we've decided to take points 2,7 & 10 as icps."
      ],
      "metadata": {
        "id": "ImwowS2eriVS"
      }
    },
    {
      "cell_type": "code",
      "source": [
        "ximage = np.array([[x[0]],\n",
        "                   [x[2]],\n",
        "                   [x[3]],\n",
        "                   [x[4]],\n",
        "                   [x[5]],\n",
        "                   [x[7]],\n",
        "                   [x[8]],\n",
        "                   [x[10]],\n",
        "                   [x[11]],\n",
        "                   [x[12]]])\n",
        "\n",
        "\n",
        "yimage = np.array([[y[0]],\n",
        "                   [y[2]],\n",
        "                   [y[3]],\n",
        "                   [y[4]],\n",
        "                   [y[5]],\n",
        "                   [y[7]],\n",
        "                   [y[8]],\n",
        "                   [y[10]],\n",
        "                   [y[11]],\n",
        "                   [y[12]]])\n",
        "\n",
        "xground = np.array([[E[0]],\n",
        "                   [E[2]],\n",
        "                   [E[3]],\n",
        "                   [E[4]],\n",
        "                   [E[5]],\n",
        "                   [E[7]],\n",
        "                   [E[8]],\n",
        "                   [E[10]],\n",
        "                   [E[11]],\n",
        "                   [E[12]]])\n",
        "\n",
        "yground = np.array([[N[0]],\n",
        "                   [N[2]],\n",
        "                   [N[3]],\n",
        "                   [N[4]],\n",
        "                   [N[5]],\n",
        "                   [N[7]],\n",
        "                   [N[8]],\n",
        "                   [N[10]],\n",
        "                   [N[11]],\n",
        "                   [N[12]]])\n",
        "\n",
        "checkx = np.array([[x[1]],\n",
        "                   [x[6]],\n",
        "                   [x[9]]])\n",
        "\n",
        "checky= np.array([[y[1]],\n",
        "                   [y[6]],\n",
        "                   [y[9]]])\n",
        "\n",
        "checkE = np.array([[E[1]],\n",
        "                   [E[6]],\n",
        "                   [E[9]]])\n",
        "\n",
        "checkN = np.array([[N[1]],\n",
        "                   [N[6]],\n",
        "                   [N[9]]])"
      ],
      "metadata": {
        "id": "pYcIVNV_bJ-L"
      },
      "execution_count": null,
      "outputs": []
    },
    {
      "cell_type": "markdown",
      "source": [
        "# **Part 1**\n",
        "\n",
        "degree of freedom = 2*10 - 6 = 14"
      ],
      "metadata": {
        "id": "j926NtUZrqWi"
      }
    },
    {
      "cell_type": "code",
      "source": [
        "one = np.ones((10,1))\n",
        "\n",
        "A1 = np.hstack((one , ximage, yimage))\n",
        "A1"
      ],
      "metadata": {
        "colab": {
          "base_uri": "https://localhost:8080/"
        },
        "id": "J04K8qg9je-K",
        "outputId": "5199ccae-f2fa-4482-96ad-bf0fe6b853a2"
      },
      "execution_count": null,
      "outputs": [
        {
          "output_type": "execute_result",
          "data": {
            "text/plain": [
              "array([[   1. ,  103. , -100.1],\n",
              "       [   1. ,  -20. ,  -69. ],\n",
              "       [   1. ,  -60. ,  -47. ],\n",
              "       [   1. , -102. ,  -47.2],\n",
              "       [   1. , -101.7,   10.8],\n",
              "       [   1. ,  -40. ,   45.7],\n",
              "       [   1. ,   11. ,   36.8],\n",
              "       [   1. ,   63. ,   17.7],\n",
              "       [   1. ,   63. ,   64.3],\n",
              "       [   1. ,  106. ,   47.7]])"
            ]
          },
          "metadata": {},
          "execution_count": 53
        }
      ]
    },
    {
      "cell_type": "code",
      "source": [
        "xcap1 = np.linalg.inv(A1.T @ A1) @ A1.T @ xground\n",
        "ycap1 = np.linalg.inv(A1.T @ A1) @ A1.T @ yground\n",
        "\n",
        "a0 = xcap1[0]\n",
        "a1 = xcap1[1]\n",
        "a2 = xcap1[2]\n",
        "b0 = ycap1[0]\n",
        "b1 = ycap1[1]\n",
        "b2 = ycap1[2]\n",
        "\n",
        "print(\"a0 = \" , a0)\n",
        "print(\"a1 = \" , a1)\n",
        "print(\"a2 = \" , a2)\n",
        "print(\"b0 = \" , b0)\n",
        "print(\"b1 = \" , b1)\n",
        "print(\"b2 = \" , b2)"
      ],
      "metadata": {
        "colab": {
          "base_uri": "https://localhost:8080/"
        },
        "id": "v0a_Tl2vlgY6",
        "outputId": "e449fb73-28fd-4fb6-c73f-94a86b5929fb"
      },
      "execution_count": null,
      "outputs": [
        {
          "output_type": "stream",
          "name": "stdout",
          "text": [
            "a0 =  [504127.28026224]\n",
            "a1 =  [-39.04565107]\n",
            "a2 =  [0.0839852]\n",
            "b0 =  [4999806.87993255]\n",
            "b1 =  [-0.10174769]\n",
            "b2 =  [-38.96947017]\n"
          ]
        }
      ]
    },
    {
      "cell_type": "code",
      "source": [
        "E2 = a0 + a1*x[1] + a2*y[1]\n",
        "N2 = b0 + b1*x[1] + b2*y[1]\n",
        "\n",
        "E7 = a0 + a1*x[6] + a2*y[6]\n",
        "N7 = b0 + b1*x[6] + b2*y[6]\n",
        "\n",
        "E10 = a0 + a1*x[9] + a2*y[9]\n",
        "N10 = b0 + b1*x[9] + b2*y[9]\n",
        "\n",
        "dx2 = checkE[0] - E2\n",
        "dy2 = checkN[0] - N2\n",
        "\n",
        "dx7 = checkE[1] - E7 \n",
        "dy7 = checkN[1] - N7\n",
        "\n",
        "dx10 = checkE[2] - E10\n",
        "dy10 = checkN[2] - N10\n",
        "\n",
        "dr2 = np.sqrt((dx2)**2 + (dy2)**2)\n",
        "dr7 = np.sqrt((dx7)**2 + (dy7)**2)\n",
        "dr10 = np.sqrt((dx10)**2 + (dy10)**2)\n",
        "\n",
        "rmse = np.sqrt(((dr2)**2 + (dr7)**2 + (dr10)**2) / 2)"
      ],
      "metadata": {
        "id": "WUGTkxfRnhKr"
      },
      "execution_count": null,
      "outputs": []
    },
    {
      "cell_type": "code",
      "source": [
        "print ('Computed coordinates are :')\n",
        "print(\"E2 = \" , E2 , \"N2 = \" , N2 )\n",
        "print(\"E7 = \" , E7 , \"N7 = \" , N7)\n",
        "print(\"E10 = \" , E10 , \"N10 = \" , N10)\n",
        "print ('Residual vectors are :')\n",
        "print(\"dx2 =\" , dx2 , \"dy2 = \" , dy2)\n",
        "print(\"dx7 =\" , dx7 , \"dy7 = \" , dy7)\n",
        "print(\"dx10 =\" , dx10 , \"dy10 = \" , dy10)\n",
        "print ('RMSE is :', rmse)"
      ],
      "metadata": {
        "colab": {
          "base_uri": "https://localhost:8080/"
        },
        "id": "YUF9ErtBpn4j",
        "outputId": "e3ea0fb8-9417-4782-93bc-863da17b1628"
      },
      "execution_count": null,
      "outputs": [
        {
          "output_type": "stream",
          "name": "stdout",
          "text": [
            "Computed coordinates are :\n",
            "E2 =  [504090.24036398] N2 =  [5002499.58892329]\n",
            "E7 =  [507491.57233238] N7 =  [4996861.74439484]\n",
            "E10 =  [501670.25974178] N10 =  [4998475.50784225]\n",
            "Residual vectors are :\n",
            "dx2 = [2.05963602] dy2 =  [-0.08892329]\n",
            "dx7 = [-15.67233238] dy7 =  [-12.74439484]\n",
            "dx10 = [-12.35974178] dy10 =  [3.99215775]\n",
            "RMSE is : [17.04394541]\n"
          ]
        }
      ]
    },
    {
      "cell_type": "markdown",
      "source": [
        "# **Part 2**\n",
        "\n",
        "degree of freedom = 2*10 - 12 = 8"
      ],
      "metadata": {
        "id": "-XJk9JMNr4Vy"
      }
    },
    {
      "cell_type": "code",
      "source": [
        "A2 = np.hstack((A1, ximage * yimage , ximage**2 , yimage**2 ))\n",
        "A2"
      ],
      "metadata": {
        "colab": {
          "base_uri": "https://localhost:8080/"
        },
        "id": "CuRgpEMwsHDj",
        "outputId": "d6141614-ed5f-4638-df7b-db622de08a63"
      },
      "execution_count": null,
      "outputs": [
        {
          "output_type": "execute_result",
          "data": {
            "text/plain": [
              "array([[ 1.000000e+00,  1.030000e+02, -1.001000e+02, -1.031030e+04,\n",
              "         1.060900e+04,  1.002001e+04],\n",
              "       [ 1.000000e+00, -2.000000e+01, -6.900000e+01,  1.380000e+03,\n",
              "         4.000000e+02,  4.761000e+03],\n",
              "       [ 1.000000e+00, -6.000000e+01, -4.700000e+01,  2.820000e+03,\n",
              "         3.600000e+03,  2.209000e+03],\n",
              "       [ 1.000000e+00, -1.020000e+02, -4.720000e+01,  4.814400e+03,\n",
              "         1.040400e+04,  2.227840e+03],\n",
              "       [ 1.000000e+00, -1.017000e+02,  1.080000e+01, -1.098360e+03,\n",
              "         1.034289e+04,  1.166400e+02],\n",
              "       [ 1.000000e+00, -4.000000e+01,  4.570000e+01, -1.828000e+03,\n",
              "         1.600000e+03,  2.088490e+03],\n",
              "       [ 1.000000e+00,  1.100000e+01,  3.680000e+01,  4.048000e+02,\n",
              "         1.210000e+02,  1.354240e+03],\n",
              "       [ 1.000000e+00,  6.300000e+01,  1.770000e+01,  1.115100e+03,\n",
              "         3.969000e+03,  3.132900e+02],\n",
              "       [ 1.000000e+00,  6.300000e+01,  6.430000e+01,  4.050900e+03,\n",
              "         3.969000e+03,  4.134490e+03],\n",
              "       [ 1.000000e+00,  1.060000e+02,  4.770000e+01,  5.056200e+03,\n",
              "         1.123600e+04,  2.275290e+03]])"
            ]
          },
          "metadata": {},
          "execution_count": 67
        }
      ]
    },
    {
      "cell_type": "code",
      "source": [
        "xcap2 = np.linalg.inv(A2.T @ A2) @ A2.T @ xground\n",
        "ycap2 = np.linalg.inv(A2.T @ A2) @ A2.T @ yground\n",
        "\n",
        "a0 = xcap2[0]\n",
        "a1 = xcap2[1]\n",
        "a2 = xcap2[2]\n",
        "a3 = xcap2[3]\n",
        "a4 = xcap2[4]\n",
        "a5 = xcap2[5]\n",
        "b0 = ycap2[0]\n",
        "b1 = ycap2[1]\n",
        "b2 = ycap2[2]\n",
        "b3 = ycap2[3]\n",
        "b4 = ycap2[4]\n",
        "b5 = ycap2[5]\n",
        "\n",
        "print(\"a0 = \" , a0)\n",
        "print(\"a1 = \" , a1)\n",
        "print(\"a2 = \" , a2)\n",
        "print(\"a3 = \" , a3)\n",
        "print(\"a4 = \" , a4)\n",
        "print(\"a5 = \" , a5)\n",
        "print(\"b0 = \" , b0)\n",
        "print(\"b1 = \" , b1)\n",
        "print(\"b2 = \" , b2)\n",
        "print(\"b3 = \" , b3)\n",
        "print(\"b4 = \" , b4)\n",
        "print(\"b5 = \" , b5)"
      ],
      "metadata": {
        "colab": {
          "base_uri": "https://localhost:8080/"
        },
        "id": "CQALaYcetKtd",
        "outputId": "b132e649-d397-4b68-ea80-e04072c3b00b"
      },
      "execution_count": null,
      "outputs": [
        {
          "output_type": "stream",
          "name": "stdout",
          "text": [
            "a0 =  [504124.65228471]\n",
            "a1 =  [-39.01286027]\n",
            "a2 =  [0.00237614]\n",
            "a3 =  [0.00245037]\n",
            "a4 =  [-0.00014347]\n",
            "a5 =  [0.00049612]\n",
            "b0 =  [4999815.20337444]\n",
            "b1 =  [-0.02685197]\n",
            "b2 =  [-39.11891391]\n",
            "b3 =  [0.00176573]\n",
            "b4 =  [-0.00084838]\n",
            "b5 =  [-0.00184791]\n"
          ]
        }
      ]
    },
    {
      "cell_type": "code",
      "source": [
        "E2 = a0 + a1*x[1] + a2*y[1] + a3*x[1]*y[1] + a4*(x[1]**2) + a5*(y[1]**2)\n",
        "N2 = b0 + b1*x[1] + b2*y[1] + b3*x[1]*y[1] + b4*(x[1]**2) + b5*(y[1]**2)\n",
        "\n",
        "E7 = a0 + a1*x[6] + a2*y[6] + a3*x[6]*y[6] + a4*(x[6]**2) + a5*(y[6]**2)\n",
        "N7 = b0 + b1*x[6] + b2*y[6] + b3*x[6]*y[6] + b4*(x[6]**2) + b5*(y[6]**2)\n",
        "\n",
        "E10 = a0 + a1*x[9] + a2*y[9] + a3*x[9]*y[9] + a4*(x[9]**2) + a5*(y[9]**2)\n",
        "N10 = b0 + b1*x[9] + b2*y[9] + b3*x[9]*y[9] + b4*(x[9]**2) + b5*(y[9]**2)\n",
        "\n",
        "dx2 = checkE[0] - E2\n",
        "dy2 = checkN[0] - N2\n",
        "\n",
        "dx7 = checkE[1] - E7 \n",
        "dy7 = checkN[1] - N7\n",
        "\n",
        "dx10 = checkE[2] - E10\n",
        "dy10 = checkN[2] - N10\n",
        "\n",
        "dr2 = np.sqrt((dx2)**2 + (dy2)**2)\n",
        "dr7 = np.sqrt((dx7)**2 + (dy7)**2)\n",
        "dr10 = np.sqrt((dx10)**2 + (dy10)**2)\n",
        "\n",
        "rmse = np.sqrt(((dr2)**2 + (dr7)**2 + (dr10)**2) / 2)"
      ],
      "metadata": {
        "id": "Z3_HAxPDus8r"
      },
      "execution_count": null,
      "outputs": []
    },
    {
      "cell_type": "code",
      "source": [
        "print ('Computed coordinates are :')\n",
        "print(\"E2 = \" , E2 , \"N2 = \" , N2 )\n",
        "print(\"E7 = \" , E7 , \"N7 = \" , N7)\n",
        "print(\"E10 = \" , E10 , \"N10 = \" , N10)\n",
        "print ('Residual vectors are :')\n",
        "print(\"dx2 =\" , dx2 , \"dy2 = \" , dy2)\n",
        "print(\"dx7 =\" , dx7 , \"dy7 = \" , dy7)\n",
        "print(\"dx10 =\" , dx10 , \"dy10 = \" , dy10)\n",
        "print ('RMSE is :', rmse)"
      ],
      "metadata": {
        "colab": {
          "base_uri": "https://localhost:8080/"
        },
        "id": "KYAm1VNvvwjz",
        "outputId": "c859b8a2-ea8f-4c5b-a136-8dc636ca6515"
      },
      "execution_count": null,
      "outputs": [
        {
          "output_type": "stream",
          "name": "stdout",
          "text": [
            "Computed coordinates are :\n",
            "E2 =  [504095.51115751] N2 =  [5002509.37727696]\n",
            "E7 =  [507465.75438363] N7 =  [4996823.89647974]\n",
            "E10 =  [501672.17567173] N10 =  [4998481.74739695]\n",
            "Residual vectors are :\n",
            "dx2 = [-3.21115751] dy2 =  [-9.87727696]\n",
            "dx7 = [10.14561637] dy7 =  [25.10352026]\n",
            "dx10 = [-14.27567173] dy10 =  [-2.24739695]\n",
            "RMSE is : [22.91111074]\n"
          ]
        }
      ]
    },
    {
      "cell_type": "markdown",
      "source": [
        "# **Part 3**\n",
        "\n",
        "degree of freedom = 2*10 - 20 = 0"
      ],
      "metadata": {
        "id": "Opoo2fyRwDJz"
      }
    },
    {
      "cell_type": "code",
      "source": [
        "A3 = np.hstack((A2,  (ximage**2)*yimage, (yimage**2)*ximage, ximage**3, yimage**3 ))\n",
        "A3"
      ],
      "metadata": {
        "colab": {
          "base_uri": "https://localhost:8080/"
        },
        "id": "NrV05D-WxZf8",
        "outputId": "14535baf-51b8-4483-a9e4-8793fc386d0b"
      },
      "execution_count": null,
      "outputs": [
        {
          "output_type": "execute_result",
          "data": {
            "text/plain": [
              "array([[ 1.00000000e+00,  1.03000000e+02, -1.00100000e+02,\n",
              "        -1.03103000e+04,  1.06090000e+04,  1.00200100e+04,\n",
              "        -1.06196090e+06,  1.03206103e+06,  1.09272700e+06,\n",
              "        -1.00300300e+06],\n",
              "       [ 1.00000000e+00, -2.00000000e+01, -6.90000000e+01,\n",
              "         1.38000000e+03,  4.00000000e+02,  4.76100000e+03,\n",
              "        -2.76000000e+04, -9.52200000e+04, -8.00000000e+03,\n",
              "        -3.28509000e+05],\n",
              "       [ 1.00000000e+00, -6.00000000e+01, -4.70000000e+01,\n",
              "         2.82000000e+03,  3.60000000e+03,  2.20900000e+03,\n",
              "        -1.69200000e+05, -1.32540000e+05, -2.16000000e+05,\n",
              "        -1.03823000e+05],\n",
              "       [ 1.00000000e+00, -1.02000000e+02, -4.72000000e+01,\n",
              "         4.81440000e+03,  1.04040000e+04,  2.22784000e+03,\n",
              "        -4.91068800e+05, -2.27239680e+05, -1.06120800e+06,\n",
              "        -1.05154048e+05],\n",
              "       [ 1.00000000e+00, -1.01700000e+02,  1.08000000e+01,\n",
              "        -1.09836000e+03,  1.03428900e+04,  1.16640000e+02,\n",
              "         1.11703212e+05, -1.18622880e+04, -1.05187191e+06,\n",
              "         1.25971200e+03],\n",
              "       [ 1.00000000e+00, -4.00000000e+01,  4.57000000e+01,\n",
              "        -1.82800000e+03,  1.60000000e+03,  2.08849000e+03,\n",
              "         7.31200000e+04, -8.35396000e+04, -6.40000000e+04,\n",
              "         9.54439930e+04],\n",
              "       [ 1.00000000e+00,  1.10000000e+01,  3.68000000e+01,\n",
              "         4.04800000e+02,  1.21000000e+02,  1.35424000e+03,\n",
              "         4.45280000e+03,  1.48966400e+04,  1.33100000e+03,\n",
              "         4.98360320e+04],\n",
              "       [ 1.00000000e+00,  6.30000000e+01,  1.77000000e+01,\n",
              "         1.11510000e+03,  3.96900000e+03,  3.13290000e+02,\n",
              "         7.02513000e+04,  1.97372700e+04,  2.50047000e+05,\n",
              "         5.54523300e+03],\n",
              "       [ 1.00000000e+00,  6.30000000e+01,  6.43000000e+01,\n",
              "         4.05090000e+03,  3.96900000e+03,  4.13449000e+03,\n",
              "         2.55206700e+05,  2.60472870e+05,  2.50047000e+05,\n",
              "         2.65847707e+05],\n",
              "       [ 1.00000000e+00,  1.06000000e+02,  4.77000000e+01,\n",
              "         5.05620000e+03,  1.12360000e+04,  2.27529000e+03,\n",
              "         5.35957200e+05,  2.41180740e+05,  1.19101600e+06,\n",
              "         1.08531333e+05]])"
            ]
          },
          "metadata": {},
          "execution_count": 74
        }
      ]
    },
    {
      "cell_type": "code",
      "source": [
        "xcap3 = np.linalg.inv(A3.T @ A3) @ A3.T @ xground\n",
        "ycap3 = np.linalg.inv(A3.T @ A3) @ A3.T @ yground\n",
        "\n",
        "a0 = xcap3[0]\n",
        "a1 = xcap3[1]\n",
        "a2 = xcap3[2]\n",
        "a3 = xcap3[3]\n",
        "a4 = xcap3[4]\n",
        "a5 = xcap3[5]\n",
        "a6 = xcap3[6]\n",
        "a7 = xcap3[7]\n",
        "a8 = xcap3[8]\n",
        "a9 = xcap3[9]\n",
        "b0 = ycap3[0]\n",
        "b1 = ycap3[1]\n",
        "b2 = ycap3[2]\n",
        "b3 = ycap3[3]\n",
        "b4 = ycap3[4]\n",
        "b5 = ycap3[5]\n",
        "b6 = ycap3[6]\n",
        "b7 = ycap3[7]\n",
        "b8 = ycap3[8]\n",
        "b9 = ycap3[9]\n",
        "\n",
        "print(\"a0 = \" , a0)\n",
        "print(\"a1 = \" , a1)\n",
        "print(\"a2 = \" , a2)\n",
        "print(\"a3 = \" , a3)\n",
        "print(\"a4 = \" , a4)\n",
        "print(\"a5 = \" , a5)\n",
        "print(\"a6 = \" , a6)\n",
        "print(\"a7 = \" , a7)\n",
        "print(\"a8 = \" , a8)\n",
        "print(\"a9 = \" , a9)\n",
        "\n",
        "print(\"b0 = \" , b0)\n",
        "print(\"b1 = \" , b1)\n",
        "print(\"b2 = \" , b2)\n",
        "print(\"b3 = \" , b3)\n",
        "print(\"b4 = \" , b4)\n",
        "print(\"b5 = \" , b5)\n",
        "print(\"b6 = \" , b6)\n",
        "print(\"b7 = \" , b7)\n",
        "print(\"b8 = \" , b8)\n",
        "print(\"b9 = \" , b9)"
      ],
      "metadata": {
        "colab": {
          "base_uri": "https://localhost:8080/"
        },
        "id": "S9wN6n-kx0Dm",
        "outputId": "beaaad20-0225-4bc9-fbb9-ee440db4fea9"
      },
      "execution_count": null,
      "outputs": [
        {
          "output_type": "stream",
          "name": "stdout",
          "text": [
            "a0 =  [504141.26659867]\n",
            "a1 =  [-39.01157646]\n",
            "a2 =  [-1.33670318]\n",
            "a3 =  [-0.00719184]\n",
            "a4 =  [0.00172283]\n",
            "a5 =  [0.00203735]\n",
            "a6 =  [5.83579471e-06]\n",
            "a7 =  [9.15047549e-06]\n",
            "a8 =  [2.95768849e-05]\n",
            "a9 =  [0.00032092]\n",
            "b0 =  [4999836.25401631]\n",
            "b1 =  [-0.25274146]\n",
            "b2 =  [-39.89123353]\n",
            "b3 =  [-0.00129473]\n",
            "b4 =  [-0.00120547]\n",
            "b5 =  [-0.00520118]\n",
            "b6 =  [-1.10793243e-05]\n",
            "b7 =  [6.84403348e-05]\n",
            "b8 =  [3.20035175e-05]\n",
            "b9 =  [0.00018509]\n"
          ]
        }
      ]
    },
    {
      "cell_type": "code",
      "source": [
        "E2 = a0 + a1*x[1] + a2*y[1] + a3*x[1]*y[1] + a4*(x[1]**2) + a5*(y[1]**2) + a6*((x[1]**2)*y[1]) + a7*(x[1]*(y[1]**2)) + a8*(x[1]**3) + a9*(y[1]**3)\n",
        "N2 = b0 + b1*x[1] + b2*y[1] + b3*x[1]*y[1] + b4*(x[1]**2) + b5*(y[1]**2) + b6*((x[1]**2)*y[1]) + b7*(x[1]*(y[1]**2)) + b8*(x[1]**3) + b9*(y[1]**3)\n",
        "\n",
        "E7 = a0 + a1*x[6] + a2*y[6] + a3*x[6]*y[6] + a4*(x[6]**2) + a5*(y[6]**2) + a6*((x[6]**2)*y[6]) + a7*(x[6]*(y[6]**2)) + a8*(x[6]**3) + a9*(y[6]**3)\n",
        "N7 = b0 + b1*x[6] + b2*y[6] + b3*x[6]*y[6] + b4*(x[6]**2) + b5*(y[6]**2) + b6*((x[6]**2)*y[6]) + b7*(x[6]*(y[6]**2)) + b8*(x[6]**3) + b9*(y[6]**3)\n",
        "\n",
        "E10 = a0 + a1*x[9] + a2*y[9] + a3*x[9]*y[9] + a4*(x[9]**2) + a5*(y[9]**2) + a6*((x[9]**2)*y[9]) + a7*(x[9]*(y[9]**2)) + a8*(x[9]**3) + a9*(y[9]**3)\n",
        "N10 = b0 + b1*x[9] + b2*y[9] + b3*x[9]*y[9] + b4*(x[9]**2) + b5*(y[9]**2) + b6*((x[9]**2)*y[9]) + b7*(x[9]*(y[9]**2)) + b8*(x[9]**3) + b9*(y[9]**3)\n",
        "\n",
        "dx2 = checkE[0] - E2\n",
        "dy2 = checkN[0] - N2\n",
        "\n",
        "dx7 = checkE[1] - E7 \n",
        "dy7 = checkN[1] - N7\n",
        "\n",
        "dx10 = checkE[2] - E10\n",
        "dy10 = checkN[2] - N10\n",
        "\n",
        "dr2 = np.sqrt((dx2)**2 + (dy2)**2)\n",
        "dr7 = np.sqrt((dx7)**2 + (dy7)**2)\n",
        "dr10 = np.sqrt((dx10)**2 + (dy10)**2)\n",
        "\n",
        "rmse = np.sqrt(((dr2)**2 + (dr7)**2 + (dr10)**2) / 2)"
      ],
      "metadata": {
        "id": "VbIruAM0znRF"
      },
      "execution_count": null,
      "outputs": []
    },
    {
      "cell_type": "code",
      "source": [
        "print ('Computed coordinates are :')\n",
        "print(\"E2 = \" , E2 , \"N2 = \" , N2 )\n",
        "print(\"E7 = \" , E7 , \"N7 = \" , N7)\n",
        "print(\"E10 = \" , E10 , \"N10 = \" , N10)\n",
        "print ('Residual vectors are :')\n",
        "print(\"dx2 =\" , dx2 , \"dy2 = \" , dy2)\n",
        "print(\"dx7 =\" , dx7 , \"dy7 = \" , dy7)\n",
        "print(\"dx10 =\" , dx10 , \"dy10 = \" , dy10)\n",
        "print ('RMSE is :', rmse)"
      ],
      "metadata": {
        "colab": {
          "base_uri": "https://localhost:8080/"
        },
        "id": "zjWnxm6P1GDt",
        "outputId": "648abacb-9db2-407e-f788-96ed7334b24b"
      },
      "execution_count": null,
      "outputs": [
        {
          "output_type": "stream",
          "name": "stdout",
          "text": [
            "Computed coordinates are :\n",
            "E2 =  [504106.69995879] N2 =  [5002506.96429882]\n",
            "E7 =  [507585.97575097] N7 =  [4996824.10133416]\n",
            "E10 =  [501653.34061755] N10 =  [4998469.22557173]\n",
            "Residual vectors are :\n",
            "dx2 = [-14.39995879] dy2 =  [-7.46429882]\n",
            "dx7 = [-110.07575097] dy7 =  [24.89866584]\n",
            "dx10 = [4.55938245] dy10 =  [10.27442827]\n",
            "RMSE is : [81.01247104]\n"
          ]
        }
      ]
    },
    {
      "cell_type": "markdown",
      "source": [
        "Based on results we can say that part 3 is an over parameterization and an ill condition.\n",
        "\n",
        "But we can have better results using repeat loop on terms of part 2 and eliminating some terms."
      ],
      "metadata": {
        "id": "pQJBBmwN1M6d"
      }
    }
  ]
}