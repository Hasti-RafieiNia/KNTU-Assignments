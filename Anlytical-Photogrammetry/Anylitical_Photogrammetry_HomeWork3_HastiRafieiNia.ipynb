{
  "nbformat": 4,
  "nbformat_minor": 0,
  "metadata": {
    "colab": {
      "provenance": []
    },
    "kernelspec": {
      "name": "python3",
      "display_name": "Python 3"
    },
    "language_info": {
      "name": "python"
    }
  },
  "cells": [
    {
      "cell_type": "markdown",
      "source": [
        "# ***Anylitical Photogrammetry HomeWork 3***\n",
        "\n",
        "KNTU G.E engineering faculty _ 2022 December\n",
        "\n",
        "*By : Hasti Rafiei Nia*\n",
        "\n",
        "*Student Code : 9926683*"
      ],
      "metadata": {
        "id": "eEDefcMbg2Lt"
      }
    },
    {
      "cell_type": "markdown",
      "source": [
        "Getting familiar with basic python commands."
      ],
      "metadata": {
        "id": "YV5SrP_ehORs"
      }
    },
    {
      "cell_type": "code",
      "source": [
        "import numpy as np"
      ],
      "metadata": {
        "id": "UXl9IX07jQWc"
      },
      "execution_count": null,
      "outputs": []
    },
    {
      "cell_type": "markdown",
      "source": [
        "# ***part1***"
      ],
      "metadata": {
        "id": "BonUvuKKqbcV"
      }
    },
    {
      "cell_type": "markdown",
      "source": [
        "# **np.array**\n",
        "\n",
        "Forms a matrix.\n",
        "\n",
        "numpy.array(object, dtype=None, *, copy=True, order='K', subok=False, ndmin=0, like=None)"
      ],
      "metadata": {
        "id": "FRts2tV_ilGE"
      }
    },
    {
      "cell_type": "code",
      "source": [
        "np.array([[1, 2], [3, 4]])"
      ],
      "metadata": {
        "colab": {
          "base_uri": "https://localhost:8080/"
        },
        "id": "EfXBRN2gij5-",
        "outputId": "e4676c98-6c61-43d0-8b89-79241b915da6"
      },
      "execution_count": null,
      "outputs": [
        {
          "output_type": "execute_result",
          "data": {
            "text/plain": [
              "array([[1, 2],\n",
              "       [3, 4]])"
            ]
          },
          "metadata": {},
          "execution_count": 2
        }
      ]
    },
    {
      "cell_type": "markdown",
      "source": [
        "# **np.zeros**\n",
        "\n",
        "Returns a new array of given shape and type, filled with zeros.\n",
        "\n",
        "numpy.zeros(shape, dtype=float, order='C', *, like=None)"
      ],
      "metadata": {
        "id": "TYOj1zXJjno8"
      }
    },
    {
      "cell_type": "code",
      "source": [
        "np.zeros(5)"
      ],
      "metadata": {
        "colab": {
          "base_uri": "https://localhost:8080/"
        },
        "id": "c-PvVIxBkbZk",
        "outputId": "e762c7b2-385c-421f-d39b-1f43db824ae1"
      },
      "execution_count": null,
      "outputs": [
        {
          "output_type": "execute_result",
          "data": {
            "text/plain": [
              "array([0., 0., 0., 0., 0.])"
            ]
          },
          "metadata": {},
          "execution_count": 3
        }
      ]
    },
    {
      "cell_type": "markdown",
      "source": [
        "# **np.sqrt**\n",
        "\n",
        "Takes the root of the input."
      ],
      "metadata": {
        "id": "TsUd-SfckfQt"
      }
    },
    {
      "cell_type": "code",
      "source": [
        "np.sqrt([1,4,9])"
      ],
      "metadata": {
        "colab": {
          "base_uri": "https://localhost:8080/"
        },
        "id": "bvoDnPpDkvKV",
        "outputId": "73ac3034-2f29-4361-8f3d-626a401a3b75"
      },
      "execution_count": null,
      "outputs": [
        {
          "output_type": "execute_result",
          "data": {
            "text/plain": [
              "array([1., 2., 3.])"
            ]
          },
          "metadata": {},
          "execution_count": 4
        }
      ]
    },
    {
      "cell_type": "markdown",
      "source": [
        "# **np.floor**\n",
        "\n",
        "Returns the floor of the input, element-wise.\n",
        "\n",
        "numpy.floor(x, /, out=None, *, where=True, casting='same_kind', order='K', dtype=None, subok=True[, signature, extobj])"
      ],
      "metadata": {
        "id": "CDh-nnzIli19"
      }
    },
    {
      "cell_type": "code",
      "source": [
        "a = np.array([-1.7, -1.5, -0.2, 0.2, 1.5, 1.7, 2.0])\n",
        "np.floor(a)"
      ],
      "metadata": {
        "colab": {
          "base_uri": "https://localhost:8080/"
        },
        "id": "DY_QOzYmlrTE",
        "outputId": "e0083cca-b408-4778-c019-d82288d58e8c"
      },
      "execution_count": null,
      "outputs": [
        {
          "output_type": "execute_result",
          "data": {
            "text/plain": [
              "array([-2., -2., -1.,  0.,  1.,  1.,  2.])"
            ]
          },
          "metadata": {},
          "execution_count": 5
        }
      ]
    },
    {
      "cell_type": "markdown",
      "source": [
        "# **.len()**\n",
        "\n",
        "Returns the number of items in a list."
      ],
      "metadata": {
        "id": "i-B-Ut3mmFKd"
      }
    },
    {
      "cell_type": "code",
      "source": [
        "mylist = [\"apple\", \"banana\", \"cherry\"]\n",
        "len(mylist)"
      ],
      "metadata": {
        "colab": {
          "base_uri": "https://localhost:8080/"
        },
        "id": "KsBsooRzm6D1",
        "outputId": "e2565c44-7a81-40c1-9218-80bad760041c"
      },
      "execution_count": null,
      "outputs": [
        {
          "output_type": "execute_result",
          "data": {
            "text/plain": [
              "3"
            ]
          },
          "metadata": {},
          "execution_count": 27
        }
      ]
    },
    {
      "cell_type": "markdown",
      "source": [
        "# **np.linalg.matrix_rank()**\n",
        "\n",
        "Returns matrix rank of array using SVD method.\n",
        "\n",
        "linalg.matrix_rank(A, tol=None, hermitian=False)"
      ],
      "metadata": {
        "id": "LTuG67RFnV3w"
      }
    },
    {
      "cell_type": "code",
      "source": [
        "np.linalg.matrix_rank(np.eye(4))"
      ],
      "metadata": {
        "colab": {
          "base_uri": "https://localhost:8080/"
        },
        "id": "y_ZVJFJdnpPF",
        "outputId": "9bc6354b-e88b-41bf-e033-07b9fd15425e"
      },
      "execution_count": null,
      "outputs": [
        {
          "output_type": "execute_result",
          "data": {
            "text/plain": [
              "4"
            ]
          },
          "metadata": {},
          "execution_count": 6
        }
      ]
    },
    {
      "cell_type": "code",
      "source": [
        "np.linalg.matrix_rank(np.ones((4,)))"
      ],
      "metadata": {
        "colab": {
          "base_uri": "https://localhost:8080/"
        },
        "id": "HaygRzf9ujCX",
        "outputId": "c0c95d03-3234-4c1a-cb7f-16fb7229bfdb"
      },
      "execution_count": null,
      "outputs": [
        {
          "output_type": "execute_result",
          "data": {
            "text/plain": [
              "1"
            ]
          },
          "metadata": {},
          "execution_count": 8
        }
      ]
    },
    {
      "cell_type": "markdown",
      "source": [
        "# **.dot()**\n",
        "\n",
        "function is used to return the dot product of given arrays"
      ],
      "metadata": {
        "id": "39lIF6TWn3WY"
      }
    },
    {
      "cell_type": "code",
      "source": [
        "arr = np.array([3, 1, 9, 7])\n",
        "arr1 = np.array([2, 6, 4, 8])\n",
        "np.dot(arr, arr1)"
      ],
      "metadata": {
        "colab": {
          "base_uri": "https://localhost:8080/"
        },
        "id": "eRi-OYQEn-SF",
        "outputId": "26673b86-3044-466a-b641-986d3911b635"
      },
      "execution_count": null,
      "outputs": [
        {
          "output_type": "execute_result",
          "data": {
            "text/plain": [
              "104"
            ]
          },
          "metadata": {},
          "execution_count": 28
        }
      ]
    },
    {
      "cell_type": "markdown",
      "source": [
        "# **np.arrange**\n",
        "\n",
        "Returns evenly spaced values within a given interval.\n",
        "\n",
        "numpy.arange([start, ]stop, [step, ]dtype=None, *, like=None)"
      ],
      "metadata": {
        "id": "Fm4i16vDoCRO"
      }
    },
    {
      "cell_type": "code",
      "source": [
        "np.arange(-3, 3, 0.5, dtype=int)"
      ],
      "metadata": {
        "colab": {
          "base_uri": "https://localhost:8080/"
        },
        "id": "pmpf8tAYoGru",
        "outputId": "2e9abd35-64e1-4761-eaf1-c0f277bc44bf"
      },
      "execution_count": null,
      "outputs": [
        {
          "output_type": "execute_result",
          "data": {
            "text/plain": [
              "array([-3, -2, -1,  0,  1,  2,  3,  4,  5,  6,  7,  8])"
            ]
          },
          "metadata": {},
          "execution_count": 22
        }
      ]
    },
    {
      "cell_type": "markdown",
      "source": [
        "# **np.ones**\n",
        "\n",
        "Returns a new array of given shape and type, filled with ones.\n",
        "\n",
        "numpy.ones(shape, dtype=None, order='C', *, like=None)"
      ],
      "metadata": {
        "id": "yzxfwVZ3oG-X"
      }
    },
    {
      "cell_type": "code",
      "source": [
        "np.ones((2, 1))"
      ],
      "metadata": {
        "colab": {
          "base_uri": "https://localhost:8080/"
        },
        "id": "BRVoZwtnoPTv",
        "outputId": "d9f43c34-38f1-4da5-da18-2fb1f4e3b5a3"
      },
      "execution_count": null,
      "outputs": [
        {
          "output_type": "execute_result",
          "data": {
            "text/plain": [
              "array([[1.],\n",
              "       [1.]])"
            ]
          },
          "metadata": {},
          "execution_count": 12
        }
      ]
    },
    {
      "cell_type": "markdown",
      "source": [
        "# **np.exp**\n",
        "\n",
        "Calculates the exponential of all elements in the input array.\n",
        "\n",
        "numpy.exp(x, /, out=None, *, where=True, casting='same_kind', order='K', dtype=None, subok=True)"
      ],
      "metadata": {
        "id": "cCy3tPPqoQHd"
      }
    },
    {
      "cell_type": "code",
      "source": [
        "x = np.linspace(-2*np.pi, 2*np.pi, 100)\n",
        "np.exp(x)\n"
      ],
      "metadata": {
        "colab": {
          "base_uri": "https://localhost:8080/"
        },
        "id": "2nJ6OmxqoUwd",
        "outputId": "da7fb512-73b4-4e8c-e91a-3c33dd7add15"
      },
      "execution_count": null,
      "outputs": [
        {
          "output_type": "execute_result",
          "data": {
            "text/plain": [
              "array([1.86744273e-03, 2.12018428e-03, 2.40713211e-03, 2.73291575e-03,\n",
              "       3.10279128e-03, 3.52272611e-03, 3.99949535e-03, 4.54079101e-03,\n",
              "       5.15534615e-03, 5.85307580e-03, 6.64523686e-03, 7.54460979e-03,\n",
              "       8.56570474e-03, 9.72499569e-03, 1.10411862e-02, 1.25355113e-02,\n",
              "       1.42320798e-02, 1.61582635e-02, 1.83451389e-02, 2.08279881e-02,\n",
              "       2.36468686e-02, 2.68472592e-02, 3.04807938e-02, 3.46060946e-02,\n",
              "       3.92897177e-02, 4.46072269e-02, 5.06444131e-02, 5.74986781e-02,\n",
              "       6.52806060e-02, 7.41157478e-02, 8.41466464e-02, 9.55351367e-02,\n",
              "       1.08464957e-01, 1.23144711e-01, 1.39811238e-01, 1.58733429e-01,\n",
              "       1.80216569e-01, 2.04607257e-01, 2.32299006e-01, 2.63738583e-01,\n",
              "       2.99433223e-01, 3.39958812e-01, 3.85969174e-01, 4.38206623e-01,\n",
              "       4.97513941e-01, 5.64847970e-01, 6.41295052e-01, 7.28088559e-01,\n",
              "       8.26628784e-01, 9.38505542e-01, 1.06552381e+00, 1.20973286e+00,\n",
              "       1.37345930e+00, 1.55934464e+00, 1.77038788e+00, 2.00999393e+00,\n",
              "       2.28202849e+00, 2.59088049e+00, 2.94153281e+00, 3.33964277e+00,\n",
              "       3.79163333e+00, 4.30479673e+00, 4.88741218e+00, 5.54887937e+00,\n",
              "       6.29987020e+00, 7.15250086e+00, 8.12052740e+00, 9.21956760e+00,\n",
              "       1.04673530e+01, 1.18840149e+01, 1.34924092e+01, 1.53184852e+01,\n",
              "       1.73917042e+01, 1.97455146e+01, 2.24178921e+01, 2.54519518e+01,\n",
              "       2.88966441e+01, 3.28075445e+01, 3.72477500e+01, 4.22888973e+01,\n",
              "       4.80123185e+01, 5.45103532e+01, 6.18878383e+01, 7.02637995e+01,\n",
              "       7.97733716e+01, 9.05699786e+01, 1.02827809e+02, 1.16744626e+02,\n",
              "       1.32544960e+02, 1.50483725e+02, 1.70850342e+02, 1.93973396e+02,\n",
              "       2.20225947e+02, 2.50031545e+02, 2.83871061e+02, 3.22290451e+02,\n",
              "       3.65909559e+02, 4.15432121e+02, 4.71657115e+02, 5.35491656e+02])"
            ]
          },
          "metadata": {},
          "execution_count": 26
        }
      ]
    },
    {
      "cell_type": "markdown",
      "source": [
        "# **np.vstack**\n",
        "\n",
        "function in Python is used to stack or concate the sequence of given arrays vertically(row-wise)"
      ],
      "metadata": {
        "id": "SG4ma7VYoVyk"
      }
    },
    {
      "cell_type": "code",
      "source": [
        "arr = np.array([1, 2, 3])\n",
        "arr1 = np.array([4, 5, 6])\n",
        "np.vstack((arr, arr1))"
      ],
      "metadata": {
        "colab": {
          "base_uri": "https://localhost:8080/"
        },
        "id": "g7YQD8cdokqt",
        "outputId": "4dfce41a-ab75-45fd-cbbd-aabb43cac853"
      },
      "execution_count": null,
      "outputs": [
        {
          "output_type": "execute_result",
          "data": {
            "text/plain": [
              "array([[1, 2, 3],\n",
              "       [4, 5, 6]])"
            ]
          },
          "metadata": {},
          "execution_count": 31
        }
      ]
    },
    {
      "cell_type": "markdown",
      "source": [
        "# **.shape()**\n",
        "\n",
        "Is used to fetch the dimensions of Pandas and NumPy type objects in python."
      ],
      "metadata": {
        "id": "KjFyPiH8olPf"
      }
    },
    {
      "cell_type": "code",
      "source": [
        "ar = np.array([[12,20] ,[13,15]])\n",
        "ar.shape"
      ],
      "metadata": {
        "colab": {
          "base_uri": "https://localhost:8080/"
        },
        "id": "Wo8scXFmox8F",
        "outputId": "d51b3325-a419-4e2b-ff5e-16b70472d1ae"
      },
      "execution_count": null,
      "outputs": [
        {
          "output_type": "execute_result",
          "data": {
            "text/plain": [
              "(2, 2)"
            ]
          },
          "metadata": {},
          "execution_count": 34
        }
      ]
    },
    {
      "cell_type": "markdown",
      "source": [
        "# **np.linalg.det**\n",
        "\n",
        "Computes the determinant of an array."
      ],
      "metadata": {
        "id": "EbyQVwScoyZd"
      }
    },
    {
      "cell_type": "code",
      "source": [
        "a = np.array([[1, 2], [3, 4]])\n",
        "np.linalg.det(a)"
      ],
      "metadata": {
        "colab": {
          "base_uri": "https://localhost:8080/"
        },
        "id": "JxB2TAJvo3zl",
        "outputId": "661d828c-a45f-47d3-f058-71be97d40344"
      },
      "execution_count": null,
      "outputs": [
        {
          "output_type": "execute_result",
          "data": {
            "text/plain": [
              "-2.0000000000000004"
            ]
          },
          "metadata": {},
          "execution_count": 10
        }
      ]
    },
    {
      "cell_type": "code",
      "source": [
        "a = np.array([ [[1, 2], [3, 4]], [[1, 2], [2, 1]], [[1, 3], [3, 1]] ])\n",
        "np.linalg.det(a)"
      ],
      "metadata": {
        "colab": {
          "base_uri": "https://localhost:8080/"
        },
        "id": "Uru2Apovva-x",
        "outputId": "58924acd-7a3d-4a6f-95dc-129b8a3ef29f"
      },
      "execution_count": null,
      "outputs": [
        {
          "output_type": "execute_result",
          "data": {
            "text/plain": [
              "array([-2., -3., -8.])"
            ]
          },
          "metadata": {},
          "execution_count": 11
        }
      ]
    },
    {
      "cell_type": "markdown",
      "source": [
        "# **.transpose()**\n",
        "\n",
        "function to get the permute or reserve the dimension of the input matrix"
      ],
      "metadata": {
        "id": "hgySG5qHo4V1"
      }
    },
    {
      "cell_type": "code",
      "source": [
        "np.transpose([[1, 2, 4, 3],[1, 3, 5, 6]])"
      ],
      "metadata": {
        "colab": {
          "base_uri": "https://localhost:8080/"
        },
        "id": "0GqafXlqo9Ze",
        "outputId": "ea9864b5-b209-44e7-aeea-0cc5b449e7b7"
      },
      "execution_count": null,
      "outputs": [
        {
          "output_type": "execute_result",
          "data": {
            "text/plain": [
              "array([[1, 1],\n",
              "       [2, 3],\n",
              "       [4, 5],\n",
              "       [3, 6]])"
            ]
          },
          "metadata": {},
          "execution_count": 30
        }
      ]
    },
    {
      "cell_type": "markdown",
      "source": [
        "# **np.reshape**\n",
        "\n",
        "Gives a new shape to an array without changing its data.\n",
        "\n",
        "numpy.reshape(a, newshape, order='C')"
      ],
      "metadata": {
        "id": "pJ2fSq5ro9z9"
      }
    },
    {
      "cell_type": "code",
      "source": [
        "a = np.array([[1,2,3], [4,5,6]])\n",
        "np.reshape(a, 6)"
      ],
      "metadata": {
        "colab": {
          "base_uri": "https://localhost:8080/"
        },
        "id": "0zbdVuD3pC5d",
        "outputId": "6c27a237-ad63-4a5c-db93-06a809b86e2a"
      },
      "execution_count": null,
      "outputs": [
        {
          "output_type": "execute_result",
          "data": {
            "text/plain": [
              "array([1, 2, 3, 4, 5, 6])"
            ]
          },
          "metadata": {},
          "execution_count": 35
        }
      ]
    },
    {
      "cell_type": "markdown",
      "source": [
        "# **np.linspace**\n",
        "\n",
        "Returns evenly spaced numbers over a specified interval.\n",
        "\n",
        "numpy.linspace(start, stop, num=50, endpoint=True, retstep=False, dtype=None, axis=0)"
      ],
      "metadata": {
        "id": "FoDnboQrpIzl"
      }
    },
    {
      "cell_type": "code",
      "source": [
        "np.linspace(2.0, 3.0, num=5, endpoint=False)"
      ],
      "metadata": {
        "colab": {
          "base_uri": "https://localhost:8080/"
        },
        "id": "hbYbIdGhpEsI",
        "outputId": "069578bf-e67e-49d6-8f42-9a585cbf638d"
      },
      "execution_count": null,
      "outputs": [
        {
          "output_type": "execute_result",
          "data": {
            "text/plain": [
              "array([2. , 2.2, 2.4, 2.6, 2.8])"
            ]
          },
          "metadata": {},
          "execution_count": 23
        }
      ]
    },
    {
      "cell_type": "markdown",
      "source": [
        "# **.T**\n",
        "\n",
        "Is used to transpose index and columns of the data frame."
      ],
      "metadata": {
        "id": "WgXX9sIwpLJU"
      }
    },
    {
      "cell_type": "code",
      "source": [
        "a = np.array([[1, 2], [3, 4]])\n",
        "a.T"
      ],
      "metadata": {
        "colab": {
          "base_uri": "https://localhost:8080/"
        },
        "id": "q2hXA975pRLG",
        "outputId": "b6660b9e-48c4-4b3b-b080-6d8b2aa37406"
      },
      "execution_count": null,
      "outputs": [
        {
          "output_type": "execute_result",
          "data": {
            "text/plain": [
              "array([[1, 3],\n",
              "       [2, 4]])"
            ]
          },
          "metadata": {},
          "execution_count": 36
        }
      ]
    },
    {
      "cell_type": "markdown",
      "source": [
        "# **np.hstack**\n",
        "\n",
        "Is used to stack or concatenate arrays in sequence horizontally (column-wise)."
      ],
      "metadata": {
        "id": "jFTjQNWCpTX9"
      }
    },
    {
      "cell_type": "code",
      "source": [
        "arr = np.array([ 2, 3, 4])\n",
        "arr1 = np.array([5, 6, 7])\n",
        "np.hstack((arr,arr1))"
      ],
      "metadata": {
        "colab": {
          "base_uri": "https://localhost:8080/"
        },
        "id": "qMxRjKz8pYc9",
        "outputId": "62aa54ab-2ba8-4cad-a85c-15d0d1bc5d7f"
      },
      "execution_count": null,
      "outputs": [
        {
          "output_type": "execute_result",
          "data": {
            "text/plain": [
              "array([2, 3, 4, 5, 6, 7])"
            ]
          },
          "metadata": {},
          "execution_count": 32
        }
      ]
    },
    {
      "cell_type": "markdown",
      "source": [
        "# **np.isnan**\n",
        "\n",
        "Tests element-wise for NaN and return result as a boolean array.\n",
        "\n",
        "numpy.isnan(x, /, out=None, *, where=True, casting='same_kind', order='K', dtype=None, subok=True)"
      ],
      "metadata": {
        "id": "eQ9DM8aUpfmN"
      }
    },
    {
      "cell_type": "code",
      "source": [
        "np.isnan([np.log(-1.),1.,np.log(0)])"
      ],
      "metadata": {
        "colab": {
          "base_uri": "https://localhost:8080/"
        },
        "id": "GrVb_TQIpjb-",
        "outputId": "919a843e-d000-47c9-b7b0-c823eed4234d"
      },
      "execution_count": null,
      "outputs": [
        {
          "output_type": "stream",
          "name": "stderr",
          "text": [
            "<ipython-input-37-896a599b4ca8>:1: RuntimeWarning: invalid value encountered in log\n",
            "  np.isnan([np.log(-1.),1.,np.log(0)])\n",
            "<ipython-input-37-896a599b4ca8>:1: RuntimeWarning: divide by zero encountered in log\n",
            "  np.isnan([np.log(-1.),1.,np.log(0)])\n"
          ]
        },
        {
          "output_type": "execute_result",
          "data": {
            "text/plain": [
              "array([ True, False, False])"
            ]
          },
          "metadata": {},
          "execution_count": 37
        }
      ]
    },
    {
      "cell_type": "markdown",
      "source": [
        "# **np.linalg.eig**\n",
        "\n",
        "Computes the eigenvalues and right eigenvectors of a square array."
      ],
      "metadata": {
        "id": "mpShYt09pkOu"
      }
    },
    {
      "cell_type": "code",
      "source": [
        "w, v = np.linalg.eig(np.array([[1, -1], [1, 1]]))\n",
        "w; v"
      ],
      "metadata": {
        "colab": {
          "base_uri": "https://localhost:8080/"
        },
        "id": "m2u0T6w2ppto",
        "outputId": "0118a419-8c88-4850-e1ef-3fb1d3fa9c71"
      },
      "execution_count": null,
      "outputs": [
        {
          "output_type": "execute_result",
          "data": {
            "text/plain": [
              "array([[0.70710678+0.j        , 0.70710678-0.j        ],\n",
              "       [0.        -0.70710678j, 0.        +0.70710678j]])"
            ]
          },
          "metadata": {},
          "execution_count": 39
        },
        {
          "output_type": "execute_result",
          "data": {
            "text/plain": [
              "array([[0.70710678+0.j        , 0.70710678-0.j        ],\n",
              "       [0.        -0.70710678j, 0.        +0.70710678j]])"
            ]
          },
          "metadata": {},
          "execution_count": 40
        }
      ]
    },
    {
      "cell_type": "markdown",
      "source": [
        "# **np.matmul**\n",
        "\n",
        "Matrix product of two arrays.\n",
        "\n",
        "numpy.matmul(x1, x2, /, out=None, *, casting='same_kind', order='K', dtype=None, subok=True)"
      ],
      "metadata": {
        "id": "H0YXQWL4prnG"
      }
    },
    {
      "cell_type": "code",
      "source": [
        "a = np.array([[1, 0],\n",
        "              [0, 1]])\n",
        "b = np.array([[4, 1],\n",
        "              [2, 2]])\n",
        "np.matmul(a, b)"
      ],
      "metadata": {
        "colab": {
          "base_uri": "https://localhost:8080/"
        },
        "id": "1fKoEWhRpzEN",
        "outputId": "0fcbf796-cd93-4d4b-e1c0-aae2bc38c97d"
      },
      "execution_count": null,
      "outputs": [
        {
          "output_type": "execute_result",
          "data": {
            "text/plain": [
              "array([[4, 1],\n",
              "       [2, 2]])"
            ]
          },
          "metadata": {},
          "execution_count": 43
        }
      ]
    },
    {
      "cell_type": "markdown",
      "source": [
        "# ***Part 2***"
      ],
      "metadata": {
        "id": "2_7vXtvBqTfN"
      }
    },
    {
      "cell_type": "markdown",
      "source": [
        "# **np.full**\n",
        "\n",
        "Returns a new array of given shape and type, filled with fill_value.\n",
        "\n",
        "numpy.full(shape, fill_value, dtype=None, order='C', *, like=None)"
      ],
      "metadata": {
        "id": "LJB33jgnqnZN"
      }
    },
    {
      "cell_type": "code",
      "source": [
        "np.full((2, 2), np.inf)"
      ],
      "metadata": {
        "colab": {
          "base_uri": "https://localhost:8080/"
        },
        "id": "N5ZSugSUqqPu",
        "outputId": "5631f45e-45b2-4f94-d478-f6ec9f726c86"
      },
      "execution_count": null,
      "outputs": [
        {
          "output_type": "execute_result",
          "data": {
            "text/plain": [
              "array([[inf, inf],\n",
              "       [inf, inf]])"
            ]
          },
          "metadata": {},
          "execution_count": 15
        }
      ]
    },
    {
      "cell_type": "markdown",
      "source": [
        "# **np.eye**\n",
        "\n",
        "Returns a 2D array with ones on the diagonal and zeros elsewhere.\n",
        "\n",
        "numpy.eye(N, M=None, k=0, dtype=<class 'float'>, order='C', *, like=None)"
      ],
      "metadata": {
        "id": "oaHvhkTsqq8l"
      }
    },
    {
      "cell_type": "code",
      "source": [
        "np.eye(3, k=1)"
      ],
      "metadata": {
        "colab": {
          "base_uri": "https://localhost:8080/"
        },
        "id": "1DLgayUxqvOH",
        "outputId": "d76bfab4-e64d-4f7b-b09d-cbc67314a6aa"
      },
      "execution_count": null,
      "outputs": [
        {
          "output_type": "execute_result",
          "data": {
            "text/plain": [
              "array([[0., 1., 0.],\n",
              "       [0., 0., 1.],\n",
              "       [0., 0., 0.]])"
            ]
          },
          "metadata": {},
          "execution_count": 9
        }
      ]
    },
    {
      "cell_type": "markdown",
      "source": [
        "# **np.random.random**\n",
        "\n",
        "Returns random floats in the half-open interval [0.0, 1.0). Alias for random_sample to ease forward-porting to the new random API.\n",
        "\n"
      ],
      "metadata": {
        "id": "9L95SZAMqv1f"
      }
    },
    {
      "cell_type": "code",
      "source": [
        "np.random.random((3 ,3))"
      ],
      "metadata": {
        "colab": {
          "base_uri": "https://localhost:8080/"
        },
        "id": "iQq60dJQq1nP",
        "outputId": "f2dd4f6a-0890-4c88-86ff-d2c16ef5d5f4"
      },
      "execution_count": null,
      "outputs": [
        {
          "output_type": "execute_result",
          "data": {
            "text/plain": [
              "array([[0.50136245, 0.90818796, 0.48976864],\n",
              "       [0.28264815, 0.58773104, 0.77221512],\n",
              "       [0.06429264, 0.08886457, 0.46831983]])"
            ]
          },
          "metadata": {},
          "execution_count": 50
        },
        {
          "output_type": "execute_result",
          "data": {
            "text/plain": [
              "array([[0.8101994 , 0.22368539, 0.03298513],\n",
              "       [0.9311727 , 0.2377579 , 0.24349352],\n",
              "       [0.70949932, 0.33564099, 0.81846647]])"
            ]
          },
          "metadata": {},
          "execution_count": 51
        }
      ]
    },
    {
      "cell_type": "markdown",
      "source": [
        "# **np.empty**\n",
        "\n",
        "Return a new array of given shape and type, without initializing entries.\n",
        "\n",
        "numpy.empty(shape, dtype=float, order='C', *, like=None)"
      ],
      "metadata": {
        "id": "DY8PRBgbq132"
      }
    },
    {
      "cell_type": "code",
      "source": [
        "np.empty([2, 2])"
      ],
      "metadata": {
        "colab": {
          "base_uri": "https://localhost:8080/"
        },
        "id": "kkmMbHbfq5gl",
        "outputId": "90f37d4f-f820-4dcb-c00f-70ead2e88a06"
      },
      "execution_count": null,
      "outputs": [
        {
          "output_type": "execute_result",
          "data": {
            "text/plain": [
              "array([[4.9e-324, 9.9e-324],\n",
              "       [1.5e-323, 2.0e-323]])"
            ]
          },
          "metadata": {},
          "execution_count": 13
        }
      ]
    },
    {
      "cell_type": "markdown",
      "source": [
        "#**np.save**\n",
        "\n",
        "Saves an array to a binary file in NumPy .npy format.\n",
        "\n",
        "numpy.save(file, arr, allow_pickle=True, fix_imports=True)"
      ],
      "metadata": {
        "id": "ug6yT2qsq6DF"
      }
    },
    {
      "cell_type": "code",
      "source": [
        "with open('test.npy', 'wb') as f:\n",
        " np.save(f, np.array([1, 2]))\n",
        " np.save(f, np.array([1, 3]))\n",
        " with open('test.npy', 'rb') as f:\n",
        "    a = np.load(f)\n",
        "    b = np.load(f)\n",
        "print(a,b)"
      ],
      "metadata": {
        "colab": {
          "base_uri": "https://localhost:8080/"
        },
        "id": "P4NdrT0Pq9gF",
        "outputId": "78635ef2-6476-4b1a-f2bc-f2c31902f397"
      },
      "execution_count": null,
      "outputs": [
        {
          "output_type": "stream",
          "name": "stdout",
          "text": [
            "[1 2] [1 3]\n"
          ]
        }
      ]
    },
    {
      "cell_type": "markdown",
      "source": [
        "# **np.saves**\n",
        "\n",
        "Saves several arrays into a single file in uncompressed .npz format.\n",
        "\n",
        "numpy.savez(file, *args, **kwds)"
      ],
      "metadata": {
        "id": "bGZ2Mbipq-JF"
      }
    },
    {
      "cell_type": "code",
      "source": [],
      "metadata": {
        "id": "ujWYEwntrCuN"
      },
      "execution_count": null,
      "outputs": []
    },
    {
      "cell_type": "markdown",
      "source": [
        "# **np.load**\n",
        "\n",
        "Loads arrays or pickled objects from .npy, .npz or pickled files.\n",
        "\n",
        "numpy.load(file, mmap_mode=None, allow_pickle=False, fix_imports=True, encoding='ASCII')\n"
      ],
      "metadata": {
        "id": "otBw7SW2rDBn"
      }
    },
    {
      "cell_type": "code",
      "source": [
        "np.save('/tmp/123', np.array([[1, 2, 3], [4, 5, 6]]))\n",
        "np.load('/tmp/123.npy')"
      ],
      "metadata": {
        "colab": {
          "base_uri": "https://localhost:8080/"
        },
        "id": "hFLAubOzrIEV",
        "outputId": "86382a59-09a0-4a8b-a97f-c6d26163aeca"
      },
      "execution_count": null,
      "outputs": [
        {
          "output_type": "execute_result",
          "data": {
            "text/plain": [
              "array([[1, 2, 3],\n",
              "       [4, 5, 6]])"
            ]
          },
          "metadata": {},
          "execution_count": 53
        }
      ]
    },
    {
      "cell_type": "markdown",
      "source": [
        "# **b.ndim**\n",
        "\n",
        "Number of array dimensions."
      ],
      "metadata": {
        "id": "GpQrJITRrIW9"
      }
    },
    {
      "cell_type": "code",
      "source": [
        "x = np.array([1, 2, 3])\n",
        "b.ndim"
      ],
      "metadata": {
        "colab": {
          "base_uri": "https://localhost:8080/"
        },
        "id": "uvrAb7_3rMi3",
        "outputId": "e917a8c3-a96d-44db-859e-1de897ab7723"
      },
      "execution_count": null,
      "outputs": [
        {
          "output_type": "execute_result",
          "data": {
            "text/plain": [
              "1"
            ]
          },
          "metadata": {},
          "execution_count": 55
        }
      ]
    },
    {
      "cell_type": "markdown",
      "source": [
        "# **e.size**\n",
        "\n",
        "counts the number of elements along a given axis."
      ],
      "metadata": {
        "id": "geogHQhSrNDu"
      }
    },
    {
      "cell_type": "code",
      "source": [
        "arr = np.array([[1, 2, 3, 4], [5, 6, 7, 8]])\n",
        "np.size(arr)"
      ],
      "metadata": {
        "colab": {
          "base_uri": "https://localhost:8080/"
        },
        "id": "sGS5VYn7rQUP",
        "outputId": "d5f6b6c9-d0cd-4302-aae7-6511a7486c08"
      },
      "execution_count": null,
      "outputs": [
        {
          "output_type": "execute_result",
          "data": {
            "text/plain": [
              "8"
            ]
          },
          "metadata": {},
          "execution_count": 56
        }
      ]
    },
    {
      "cell_type": "markdown",
      "source": [
        "# **b.dtype**\n",
        "\n"
      ],
      "metadata": {
        "id": "9lr2ZU1PrR8-"
      }
    },
    {
      "cell_type": "code",
      "source": [
        "dt = np.dtype('>i4')\n",
        "dt.byteorder"
      ],
      "metadata": {
        "colab": {
          "base_uri": "https://localhost:8080/",
          "height": 35
        },
        "id": "Odjfj0H8rjP1",
        "outputId": "873c6d10-298c-4bd0-f35d-03e7ae54b323"
      },
      "execution_count": null,
      "outputs": [
        {
          "output_type": "execute_result",
          "data": {
            "text/plain": [
              "'>'"
            ],
            "application/vnd.google.colaboratory.intrinsic+json": {
              "type": "string"
            }
          },
          "metadata": {},
          "execution_count": 58
        }
      ]
    },
    {
      "cell_type": "markdown",
      "source": [
        "# **b.dtype.name**\n",
        "\n",
        "A bit-width name for this data-type."
      ],
      "metadata": {
        "id": "pfcHbR0vrjcO"
      }
    },
    {
      "cell_type": "code",
      "source": [
        "x = np.dtype([('a', np.int32, 8), ('b', np.float64, 6)])\n",
        "x.name"
      ],
      "metadata": {
        "colab": {
          "base_uri": "https://localhost:8080/",
          "height": 35
        },
        "id": "kBu7ZVc9rn5u",
        "outputId": "0530dda8-75f6-413c-bd05-9f5c3119900a"
      },
      "execution_count": null,
      "outputs": [
        {
          "output_type": "execute_result",
          "data": {
            "text/plain": [
              "'void640'"
            ],
            "application/vnd.google.colaboratory.intrinsic+json": {
              "type": "string"
            }
          },
          "metadata": {},
          "execution_count": 63
        }
      ]
    },
    {
      "cell_type": "markdown",
      "source": [
        "# **np.substract , np.add , np.divide , np.multiply**\n",
        "\n",
        "Subtract, add, divide & multiply arguments, element-wise.\n",
        "\n",
        "numpy.subtract(x1, x2, /, out=None, *, where=True, casting='same_kind', order='K', dtype=None, subok=True)\n",
        "\n",
        "numpy.add(x1, x2, /, out=None, *, where=True, casting='same_kind', order='K', dtype=None, subok=True)\n",
        "\n",
        "numpy.divide(x1, x2, /, out=None, *, where=True, casting='same_kind', order='K', dtype=None, subok=True)\n",
        "\n",
        "numpy.multiply(x1, x2, /, out=None, *, where=True, casting='same_kind', order='K', dtype=None, subok=True)"
      ],
      "metadata": {
        "id": "OyrO9c59roKw"
      }
    },
    {
      "cell_type": "code",
      "source": [
        "x1 = np.arange(9.0).reshape((3, 3))\n",
        "x2 = np.arange(3.0)\n",
        "np.subtract(x1, x2)"
      ],
      "metadata": {
        "colab": {
          "base_uri": "https://localhost:8080/"
        },
        "id": "6LBLF0BdrsmP",
        "outputId": "6dd52c7c-8659-4385-fc42-c5e706a65789"
      },
      "execution_count": null,
      "outputs": [
        {
          "output_type": "execute_result",
          "data": {
            "text/plain": [
              "array([[0., 0., 0.],\n",
              "       [3., 3., 3.],\n",
              "       [6., 6., 6.]])"
            ]
          },
          "metadata": {},
          "execution_count": 64
        }
      ]
    },
    {
      "cell_type": "code",
      "source": [
        "x1 = np.arange(9.0).reshape((3, 3))\n",
        "x2 = np.arange(3.0)\n",
        "np.add(x1, x2)"
      ],
      "metadata": {
        "colab": {
          "base_uri": "https://localhost:8080/"
        },
        "id": "fA9f2dXEE3HN",
        "outputId": "82992775-201e-47d2-ab50-6d01f258bc88"
      },
      "execution_count": null,
      "outputs": [
        {
          "output_type": "execute_result",
          "data": {
            "text/plain": [
              "array([[ 0.,  2.,  4.],\n",
              "       [ 3.,  5.,  7.],\n",
              "       [ 6.,  8., 10.]])"
            ]
          },
          "metadata": {},
          "execution_count": 65
        }
      ]
    },
    {
      "cell_type": "code",
      "source": [
        "x1 = np.arange(9.0).reshape((3, 3))\n",
        "x2 = np.arange(3.0)\n",
        "np.divide(x1, x2)"
      ],
      "metadata": {
        "colab": {
          "base_uri": "https://localhost:8080/"
        },
        "id": "iNk6xB1gE276",
        "outputId": "42ad3e30-35ce-41db-cd89-f2af354e056f"
      },
      "execution_count": null,
      "outputs": [
        {
          "output_type": "stream",
          "name": "stderr",
          "text": [
            "<ipython-input-67-3d28a0269857>:3: RuntimeWarning: divide by zero encountered in true_divide\n",
            "  np.divide(x1, x2)\n",
            "<ipython-input-67-3d28a0269857>:3: RuntimeWarning: invalid value encountered in true_divide\n",
            "  np.divide(x1, x2)\n"
          ]
        },
        {
          "output_type": "execute_result",
          "data": {
            "text/plain": [
              "array([[nan, 1. , 1. ],\n",
              "       [inf, 4. , 2.5],\n",
              "       [inf, 7. , 4. ]])"
            ]
          },
          "metadata": {},
          "execution_count": 67
        }
      ]
    },
    {
      "cell_type": "code",
      "source": [
        "x1 = np.arange(9.0).reshape((3, 3))\n",
        "x2 = np.arange(3.0)\n",
        "np.multiply(x1, x2)"
      ],
      "metadata": {
        "colab": {
          "base_uri": "https://localhost:8080/"
        },
        "id": "N_PmD2ErE2q3",
        "outputId": "50f4c5b3-e409-40cf-95ea-c6148235dc3c"
      },
      "execution_count": null,
      "outputs": [
        {
          "output_type": "execute_result",
          "data": {
            "text/plain": [
              "array([[ 0.,  1.,  4.],\n",
              "       [ 0.,  4., 10.],\n",
              "       [ 0.,  7., 16.]])"
            ]
          },
          "metadata": {},
          "execution_count": 69
        }
      ]
    },
    {
      "cell_type": "markdown",
      "source": [
        "# **np.sin , np.cos , np.log**\n",
        "\n",
        "Trigonometric sine,cosine and logaritm element-wise.\n",
        "\n",
        "numpy.sin(x, /, out=None, *, where=True, casting='same_kind', order='K', dtype=None, subok=True)\n",
        "\n",
        "numpy.cos(x, /, out=None, *, where=True, casting='same_kind', order='K', dtype=None, subok=True)\n",
        "\n",
        "numpy.log(x, /, out=None, *, where=True, casting='same_kind', order='K', dtype=None, subok=True)"
      ],
      "metadata": {
        "id": "RvYE2Qawr5Re"
      }
    },
    {
      "cell_type": "code",
      "source": [
        "np.sin(np.array((0., 30., 45., 60., 90.)) * np.pi / 180. )"
      ],
      "metadata": {
        "colab": {
          "base_uri": "https://localhost:8080/"
        },
        "id": "xKAmvE9ZsD1G",
        "outputId": "4373944a-5b56-4cfa-bc34-7501b5a93ad7"
      },
      "execution_count": null,
      "outputs": [
        {
          "output_type": "execute_result",
          "data": {
            "text/plain": [
              "array([0.        , 0.5       , 0.70710678, 0.8660254 , 1.        ])"
            ]
          },
          "metadata": {},
          "execution_count": 16
        }
      ]
    },
    {
      "cell_type": "code",
      "source": [
        "np.cos(np.array([0, np.pi/2, np.pi]))"
      ],
      "metadata": {
        "colab": {
          "base_uri": "https://localhost:8080/"
        },
        "id": "B4O_SRubxm8f",
        "outputId": "1fa01b1c-a8ab-4a4b-b0c4-897bdcc838b2"
      },
      "execution_count": null,
      "outputs": [
        {
          "output_type": "execute_result",
          "data": {
            "text/plain": [
              "array([ 1.000000e+00,  6.123234e-17, -1.000000e+00])"
            ]
          },
          "metadata": {},
          "execution_count": 21
        }
      ]
    },
    {
      "cell_type": "code",
      "source": [
        "np.log([1, np.e, np.e**2, 0])"
      ],
      "metadata": {
        "colab": {
          "base_uri": "https://localhost:8080/"
        },
        "id": "U_VDTxFtxmo3",
        "outputId": "f00fc921-cee5-45f3-eb85-b5df62470d42"
      },
      "execution_count": null,
      "outputs": [
        {
          "output_type": "stream",
          "name": "stderr",
          "text": [
            "<ipython-input-14-12cefd5fc7db>:1: RuntimeWarning: divide by zero encountered in log\n",
            "  np.log([1, np.e, np.e**2, 0])\n"
          ]
        },
        {
          "output_type": "execute_result",
          "data": {
            "text/plain": [
              "array([  0.,   1.,   2., -inf])"
            ]
          },
          "metadata": {},
          "execution_count": 14
        }
      ]
    },
    {
      "cell_type": "markdown",
      "source": [
        "# **np.array_equal**\n",
        "\n",
        "True if two arrays have the same shape and elements, False otherwise.\n",
        "\n",
        "numpy.array_equal(a1, a2, equal_nan=False)"
      ],
      "metadata": {
        "id": "5-D2YdytsWgH"
      }
    },
    {
      "cell_type": "code",
      "source": [
        "np.array_equal([1, 2], [1, 2, 3])"
      ],
      "metadata": {
        "colab": {
          "base_uri": "https://localhost:8080/"
        },
        "id": "pTavJDckHmRr",
        "outputId": "411dd3a6-9f63-49cc-b488-d12200813daa"
      },
      "execution_count": null,
      "outputs": [
        {
          "output_type": "execute_result",
          "data": {
            "text/plain": [
              "False"
            ]
          },
          "metadata": {},
          "execution_count": 70
        }
      ]
    },
    {
      "cell_type": "code",
      "source": [
        "np.array_equal([1, 2], [1, 2])"
      ],
      "metadata": {
        "colab": {
          "base_uri": "https://localhost:8080/"
        },
        "id": "vjjCQ0bfHx0r",
        "outputId": "3e98ab11-5db2-420b-ba21-f9b728174ca7"
      },
      "execution_count": null,
      "outputs": [
        {
          "output_type": "execute_result",
          "data": {
            "text/plain": [
              "True"
            ]
          },
          "metadata": {},
          "execution_count": 71
        }
      ]
    },
    {
      "cell_type": "markdown",
      "source": [
        "# **a.sum() , a.min() , a.max()**\n",
        "\n",
        "Sum, minimum & maximum of array elements over a given axis.\n",
        "\n",
        "numpy.sum(a, axis=None, dtype=None, out=None, keepdims=<no value>, initial=<no value>, where=<no value>)\n",
        "\n",
        "numpy.min(a, axis=None, dtype=None, out=None, keepdims=<no value>, initial=<no value>, where=<no value>)\n",
        "\n",
        "numpy.max(a, axis=None, dtype=None, out=None, keepdims=<no value>, initial=<no value>, where=<no value>)"
      ],
      "metadata": {
        "id": "6nWJDpzFseqt"
      }
    },
    {
      "cell_type": "code",
      "source": [
        "np.sum([0.5, 1.5])"
      ],
      "metadata": {
        "colab": {
          "base_uri": "https://localhost:8080/"
        },
        "id": "oJNdKxdQKjFT",
        "outputId": "d4967552-18f1-4402-bb14-8069ae0b95aa"
      },
      "execution_count": null,
      "outputs": [
        {
          "output_type": "execute_result",
          "data": {
            "text/plain": [
              "2.0"
            ]
          },
          "metadata": {},
          "execution_count": 78
        }
      ]
    },
    {
      "cell_type": "code",
      "source": [
        "a = np.arange(4).reshape((2,2))\n",
        "np.min(a)"
      ],
      "metadata": {
        "colab": {
          "base_uri": "https://localhost:8080/"
        },
        "id": "0e8jmXt4MihT",
        "outputId": "7d14e383-8736-4408-d76c-ada5b3753e65"
      },
      "execution_count": null,
      "outputs": [
        {
          "data": {
            "text/plain": [
              "0"
            ]
          },
          "execution_count": 80,
          "metadata": {},
          "output_type": "execute_result"
        }
      ]
    },
    {
      "cell_type": "code",
      "source": [
        "a = np.arange(4).reshape((2,2))\n",
        "np.max(a)"
      ],
      "metadata": {
        "colab": {
          "base_uri": "https://localhost:8080/"
        },
        "id": "1-tkoA9mKi4r",
        "outputId": "94f30aac-4613-434b-c698-2bd1cdf13554"
      },
      "execution_count": null,
      "outputs": [
        {
          "output_type": "execute_result",
          "data": {
            "text/plain": [
              "3"
            ]
          },
          "metadata": {},
          "execution_count": 79
        }
      ]
    },
    {
      "cell_type": "markdown",
      "source": [
        "# **a.mean()**\n",
        "\n",
        "Computes the arithmetic mean along the specified axis or returns the average of the array elements. \n",
        "\n",
        "\n",
        "numpy.mean(a, axis=None, dtype=None, out=None, keepdims=<no value>, *, where=<no value>)"
      ],
      "metadata": {
        "id": "gdULwnu3KjzL"
      }
    },
    {
      "cell_type": "code",
      "source": [
        "a = np.array([[1, 2], [3, 4]])\n",
        "np.mean(a)"
      ],
      "metadata": {
        "id": "2GuB7HQ_soR2"
      },
      "execution_count": null,
      "outputs": []
    },
    {
      "cell_type": "markdown",
      "source": [
        "# **np.median**\n",
        "\n",
        "Computes the median along the specified axis or returns the median of the array elements.\n",
        "\n",
        "\n",
        "\n",
        "numpy.median(a, axis=None, out=None, overwrite_input=False, keepdims=False)"
      ],
      "metadata": {
        "id": "JmS6BuAestcP"
      }
    },
    {
      "cell_type": "code",
      "source": [
        "a = np.array([[10, 7, 4], [3, 2, 1]])\n",
        "np.median(a)"
      ],
      "metadata": {
        "colab": {
          "base_uri": "https://localhost:8080/"
        },
        "id": "bYrnzsfrIxKi",
        "outputId": "a59dc717-949e-4ee7-ceee-8dc5832be610"
      },
      "execution_count": null,
      "outputs": [
        {
          "output_type": "execute_result",
          "data": {
            "text/plain": [
              "3.5"
            ]
          },
          "metadata": {},
          "execution_count": 73
        }
      ]
    },
    {
      "cell_type": "markdown",
      "source": [
        "# **np.std**\n",
        "\n",
        "Computes the standard deviation along the specified axisor returns the standard deviation, a measure of the spread of a distribution, of the array elements.\n",
        "\n",
        "numpy.std(a, axis=None, dtype=None, out=None, ddof=0, keepdims=<no value>, *, where=<no value>)"
      ],
      "metadata": {
        "id": "_vGT0C2lKzuV"
      }
    },
    {
      "cell_type": "code",
      "source": [
        "a = np.array([[1, 2], [3, 4]])\n",
        "np.std(a)"
      ],
      "metadata": {
        "colab": {
          "base_uri": "https://localhost:8080/"
        },
        "id": "2Fl_kHVatCJ3",
        "outputId": "d804bfe6-d2f6-4e44-fc68-3f31d00cf836"
      },
      "execution_count": null,
      "outputs": [
        {
          "output_type": "execute_result",
          "data": {
            "text/plain": [
              "1.118033988749895"
            ]
          },
          "metadata": {},
          "execution_count": 74
        }
      ]
    },
    {
      "cell_type": "markdown",
      "source": [
        "# **np.corrcoef**\n",
        "\n",
        "Returns Pearson product-moment correlation coefficients.\n",
        "\n",
        "numpy.corrcoef(x, y=None, rowvar=True, bias=<no value>, ddof=<no value>, *, dtype=None)"
      ],
      "metadata": {
        "id": "BxXsPoXBK0Tz"
      }
    },
    {
      "cell_type": "code",
      "source": [
        "xarr = np.random.random((3, 3))\n",
        "yarr = np.random.random((3, 3))\n",
        "np.corrcoef(xarr, yarr)"
      ],
      "metadata": {
        "colab": {
          "base_uri": "https://localhost:8080/"
        },
        "id": "Sko5xxDGJr_D",
        "outputId": "0e06a2e6-ebe9-4648-9108-1f4bef095626"
      },
      "execution_count": null,
      "outputs": [
        {
          "output_type": "execute_result",
          "data": {
            "text/plain": [
              "array([[ 1.        ,  0.37395416, -0.6072775 ,  0.34263643, -0.84061592,\n",
              "         0.6054355 ],\n",
              "       [ 0.37395416,  1.        ,  0.50975338,  0.99943735,  0.18798296,\n",
              "         0.96455512],\n",
              "       [-0.6072775 ,  0.50975338,  1.        ,  0.53832241,  0.94080798,\n",
              "         0.2646626 ],\n",
              "       [ 0.34263643,  0.99943735,  0.53832241,  1.        ,  0.22082004,\n",
              "         0.95516162],\n",
              "       [-0.84061592,  0.18798296,  0.94080798,  0.22082004,  1.        ,\n",
              "        -0.07785711],\n",
              "       [ 0.6054355 ,  0.96455512,  0.2646626 ,  0.95516162, -0.07785711,\n",
              "         1.        ]])"
            ]
          },
          "metadata": {},
          "execution_count": 77
        }
      ]
    },
    {
      "cell_type": "markdown",
      "source": [
        "# **np.copy**\n",
        "\n",
        "Returns an array copy of the given object.\n",
        "\n",
        "numpy.copy(a, order='K', subok=False)"
      ],
      "metadata": {
        "id": "KxJobvZmtE9Q"
      }
    },
    {
      "cell_type": "code",
      "source": [
        "a = np.array([1, 2, 3])\n",
        "a.flags[\"WRITEABLE\"] = False\n",
        "b = np.copy(a)\n",
        "b.flags[\"WRITEABLE\"]"
      ],
      "metadata": {
        "colab": {
          "base_uri": "https://localhost:8080/"
        },
        "id": "K_u-vDo5tJJG",
        "outputId": "48212c15-ea8e-4037-c651-7b7262904823"
      },
      "execution_count": null,
      "outputs": [
        {
          "output_type": "execute_result",
          "data": {
            "text/plain": [
              "True"
            ]
          },
          "metadata": {},
          "execution_count": 20
        }
      ]
    },
    {
      "cell_type": "markdown",
      "source": [
        "# **np.sort**\n",
        "\n",
        "Returns a sorted copy of an array.\n",
        "\n",
        "numpy.sort(a, axis=- 1, kind=None, order=None)"
      ],
      "metadata": {
        "id": "GnkcrTDXtJ_d"
      }
    },
    {
      "cell_type": "code",
      "source": [
        "a = np.array([[1,4],[3,1]])\n",
        "np.sort(a) "
      ],
      "metadata": {
        "colab": {
          "base_uri": "https://localhost:8080/"
        },
        "id": "yjbO4NhftNk2",
        "outputId": "16c534da-5b3e-4b7a-927a-099ae2dfbfb1"
      },
      "execution_count": null,
      "outputs": [
        {
          "output_type": "execute_result",
          "data": {
            "text/plain": [
              "array([[1, 4],\n",
              "       [1, 3]])"
            ]
          },
          "metadata": {},
          "execution_count": 72
        }
      ]
    }
  ]
}